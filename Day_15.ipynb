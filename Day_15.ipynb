{
 "cells": [
  {
   "cell_type": "markdown",
   "metadata": {},
   "source": [
    "## 한국어 Word2Vec 만들기(위키피디아)"
   ]
  },
  {
   "cell_type": "markdown",
   "metadata": {},
   "source": [
    "위키피디아 한국어 덤프 파일 다운로드\n",
    "\n",
    "https://dumps.wikimedia.org/kowiki/latest/\n",
    "\n",
    "kowiki-latest-pages-articles.xml.bz2    "
   ]
  },
  {
   "cell_type": "markdown",
   "metadata": {},
   "source": [
    "위키피디아 익스트랙터 다운 받아, 압축 파일을 텍스트 파일로 변환\n",
    "\n",
    "1. git 다운로드 (https://git-scm.com/download/win)\n",
    "\n",
    "2. git clone \"https://github.com/attardi/wikiextractor.git\"  \n",
    "\n",
    "3. python WikiExtractor.py kowiki-latest-pages-articles.xml.bz2  "
   ]
  },
  {
   "cell_type": "code",
   "execution_count": null,
   "metadata": {},
   "outputs": [],
   "source": []
  }
 ],
 "metadata": {
  "kernelspec": {
   "display_name": "Python 3",
   "language": "python",
   "name": "python3"
  },
  "language_info": {
   "codemirror_mode": {
    "name": "ipython",
    "version": 3
   },
   "file_extension": ".py",
   "mimetype": "text/x-python",
   "name": "python",
   "nbconvert_exporter": "python",
   "pygments_lexer": "ipython3",
   "version": "3.7.3"
  }
 },
 "nbformat": 4,
 "nbformat_minor": 2
}
