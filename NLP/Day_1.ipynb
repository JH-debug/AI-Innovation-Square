{
 "cells": [
  {
   "cell_type": "markdown",
   "metadata": {},
   "source": [
    "참고: https://leechamin.tistory.com/114?category=836793"
   ]
  },
  {
   "cell_type": "markdown",
   "metadata": {},
   "source": [
    "# Library import & version check"
   ]
  },
  {
   "cell_type": "code",
   "execution_count": 4,
   "metadata": {},
   "outputs": [],
   "source": [
    "import requests\n",
    "from bs4 import BeautifulSoup\n",
    "\n",
    "import selenium\n",
    "from selenium import webdriver\n",
    "\n",
    "import tensorflow as tf"
   ]
  },
  {
   "cell_type": "code",
   "execution_count": 11,
   "metadata": {},
   "outputs": [
    {
     "name": "stdout",
     "output_type": "stream",
     "text": [
      "2.22.0\n",
      "2.1.0\n"
     ]
    }
   ],
   "source": [
    "# 버젼 확인\n",
    "print(requests.__version__)\n",
    "print(tf.__version__)"
   ]
  },
  {
   "cell_type": "code",
   "execution_count": null,
   "metadata": {
    "scrolled": true
   },
   "outputs": [
    {
     "name": "stdout",
     "output_type": "stream",
     "text": [
      "showing info https://raw.githubusercontent.com/nltk/nltk_data/gh-pages/index.xml\n"
     ]
    }
   ],
   "source": [
    "# nltk에서 파일 다운로드\n",
    "\n",
    "import nltk\n",
    "nltk.download()"
   ]
  },
  {
   "cell_type": "markdown",
   "metadata": {},
   "source": [
    "# Scraping / Crawling"
   ]
  },
  {
   "cell_type": "markdown",
   "metadata": {},
   "source": [
    "# 1. requests 패키지"
   ]
  },
  {
   "cell_type": "markdown",
   "metadata": {},
   "source": [
    "## - get 방식"
   ]
  },
  {
   "cell_type": "code",
   "execution_count": 92,
   "metadata": {},
   "outputs": [],
   "source": [
    "def getdownload(url, param = None, retires = 3):\n",
    "    resp = None\n",
    "    \n",
    "    try:\n",
    "        # 전달받은 결과값\n",
    "        resp = requests.get(url, params = param)\n",
    "        resp.raise_for_status()   # 200 OK 코드가 아닌 경우 에러\n",
    "        # 예외 처리\n",
    "    except requests.exceptions.HTTPError as e:\n",
    "        if 500 <= resp.status_code < 600 and retires > 0:\n",
    "            print('Retries : {0}'.format(retries))\n",
    "            return getdownload(url, param, retries - 1)  # 재귀 호출, -1\n",
    "        else:\n",
    "            print(resp.status_code)  # 응답 코드\n",
    "            print(resp.reason)\n",
    "            print(resp.request.headers)\n",
    "            print(resp.text)\n",
    "            \n",
    "    return resp"
   ]
  },
  {
   "cell_type": "code",
   "execution_count": 27,
   "metadata": {},
   "outputs": [
    {
     "name": "stdout",
     "output_type": "stream",
     "text": [
      "408\n",
      "REQUEST_TIMEOUT\n",
      "{'User-Agent': 'python-requests/2.22.0', 'Accept-Encoding': 'gzip, deflate', 'Accept': '*/*', 'Connection': 'keep-alive'}\n"
     ]
    },
    {
     "data": {
      "text/plain": [
       "<Response [408]>"
      ]
     },
     "execution_count": 27,
     "metadata": {},
     "output_type": "execute_result"
    }
   ],
   "source": [
    "url = \"https://www.crawler-test.com/status_codes/status_100\"\n",
    "getdownload(url)"
   ]
  },
  {
   "cell_type": "code",
   "execution_count": 28,
   "metadata": {},
   "outputs": [
    {
     "data": {
      "text/plain": [
       "<Response [200]>"
      ]
     },
     "execution_count": 28,
     "metadata": {},
     "output_type": "execute_result"
    }
   ],
   "source": [
    "url = \"https://www.crawler-test.com/status_codes/status_200\"\n",
    "getdownload(url)"
   ]
  },
  {
   "cell_type": "markdown",
   "metadata": {},
   "source": [
    "## - post 방식"
   ]
  },
  {
   "cell_type": "code",
   "execution_count": 41,
   "metadata": {},
   "outputs": [],
   "source": [
    "def postdownload(url, data = None, param = None, retires = 3):\n",
    "    resp = None\n",
    "    \n",
    "    try:\n",
    "        # 전달받은 결과값\n",
    "        resp = requests.post(url, data, params = param)\n",
    "        resp.raise_for_status()\n",
    "        # 예외 처리\n",
    "    except requests.exceptions.HTTPError as e:\n",
    "        if 500 <= resp.status_code < 600 and retires > 0:\n",
    "            print('Retries : {0}'.format(retries))\n",
    "            return postdownload(url, param, retries - 1)  # 재귀 호출, -1\n",
    "        else:\n",
    "            print(resp.status_code)\n",
    "            print(resp.reason)      \n",
    "            print(resp.request.headers)\n",
    "            \n",
    "    return resp"
   ]
  },
  {
   "cell_type": "code",
   "execution_count": 42,
   "metadata": {},
   "outputs": [
    {
     "name": "stdout",
     "output_type": "stream",
     "text": [
      "404\n",
      "Not Found\n",
      "{'User-Agent': 'python-requests/2.22.0', 'Accept-Encoding': 'gzip, deflate', 'Accept': '*/*', 'Connection': 'keep-alive', 'Content-Length': '0'}\n"
     ]
    },
    {
     "data": {
      "text/plain": [
       "<Response [404]>"
      ]
     },
     "execution_count": 42,
     "metadata": {},
     "output_type": "execute_result"
    }
   ],
   "source": [
    "url = \"https://www.crawler-test.com/status_codes/status_200\"\n",
    "postdownload(url)"
   ]
  },
  {
   "cell_type": "markdown",
   "metadata": {},
   "source": [
    "## - Cookie 활용"
   ]
  },
  {
   "cell_type": "code",
   "execution_count": 39,
   "metadata": {},
   "outputs": [],
   "source": [
    "def postdownloadcookie(url, data = None, param = None, cookie = None, retires = 3):\n",
    "    resp = None\n",
    "    \n",
    "    try:\n",
    "        # 전달받은 결과값\n",
    "        resp = requests.post(url, data = data, cookies = cookie, params = param)\n",
    "        resp.raise_for_status()\n",
    "        # 예외 처리\n",
    "    except requests.exceptions.HTTPError as e:\n",
    "        if 500 <= resp.status_code < 600 and retires > 0:\n",
    "            print('Retries : {0}'.format(retries))\n",
    "            return postdownload(url, data, param, cookie, retries - 1) \n",
    "        else:\n",
    "            print(resp.status_code)\n",
    "            print(resp.reason)\n",
    "            print(resp.headers)\n",
    "            \n",
    "    return resp"
   ]
  },
  {
   "cell_type": "code",
   "execution_count": 40,
   "metadata": {},
   "outputs": [
    {
     "name": "stdout",
     "output_type": "stream",
     "text": [
      "404\n",
      "Not Found\n",
      "{'Content-Encoding': 'gzip', 'Content-Type': 'text/html;charset=utf-8', 'Date': 'Sat, 22 Feb 2020 04:15:36 GMT', 'Server': 'nginx/1.10.3', 'Vary': 'Accept-Encoding', 'X-Cascade': 'pass', 'X-Content-Type-Options': 'nosniff', 'X-Frame-Options': 'SAMEORIGIN', 'X-XSS-Protection': '1; mode=block', 'Content-Length': '20', 'Connection': 'keep-alive'}\n"
     ]
    },
    {
     "data": {
      "text/plain": [
       "<Response [404]>"
      ]
     },
     "execution_count": 40,
     "metadata": {},
     "output_type": "execute_result"
    }
   ],
   "source": [
    "url = \"https://www.crawler-test.com/status_codes/status_200\"\n",
    "postdownloadcookie(url)"
   ]
  },
  {
   "cell_type": "code",
   "execution_count": 44,
   "metadata": {},
   "outputs": [],
   "source": [
    "url = \"https://pythonscraping.com/pages/files/processing.php\"\n",
    "data = {\"firstname\" : 'test', 'lastname' : 1234}"
   ]
  },
  {
   "cell_type": "code",
   "execution_count": 50,
   "metadata": {},
   "outputs": [
    {
     "data": {
      "text/plain": [
       "<Response [200]>"
      ]
     },
     "execution_count": 50,
     "metadata": {},
     "output_type": "execute_result"
    }
   ],
   "source": [
    "postdownloadcookie(url, data)"
   ]
  },
  {
   "cell_type": "markdown",
   "metadata": {},
   "source": [
    "## - Session 활용"
   ]
  },
  {
   "cell_type": "code",
   "execution_count": 53,
   "metadata": {},
   "outputs": [
    {
     "data": {
      "text/plain": [
       "'Hello there,  !'"
      ]
     },
     "execution_count": 53,
     "metadata": {},
     "output_type": "execute_result"
    }
   ],
   "source": [
    "Session = requests.Session() # session 객체 가져옴\n",
    "\n",
    "data = {'username': 'test', 'password' : 'password'}\n",
    "html = session.post(url, data) # post 방식으로 요청\n",
    "html.text"
   ]
  },
  {
   "cell_type": "code",
   "execution_count": 52,
   "metadata": {},
   "outputs": [
    {
     "data": {
      "text/plain": [
       "'Hello there,  !'"
      ]
     },
     "execution_count": 52,
     "metadata": {},
     "output_type": "execute_result"
    }
   ],
   "source": [
    "html = session.post(url)  # 재요청시 username, password 필요 없음\n",
    "html.text"
   ]
  },
  {
   "cell_type": "markdown",
   "metadata": {},
   "source": [
    "# 2. BeautifulSoup 이용한 HTML 분석"
   ]
  },
  {
   "cell_type": "code",
   "execution_count": 84,
   "metadata": {},
   "outputs": [],
   "source": [
    "html = '''\n",
    "<IDOCTYPE html>\n",
    "<html>\n",
    "    <head>\n",
    "        <meta charset='utf-8'>\n",
    "        <title>BeautifulSoup Training</title>\n",
    "    </head>\n",
    "    <body>\n",
    "        <div id = 'result'>\n",
    "            <p class = 'row'>\n",
    "                <a class = \"red\">Go to page 1</a>,\n",
    "                <a class = \"blue\">Go to page 2</a>,\n",
    "                <a class = \"green\">Go to page 3</a>,\n",
    "                <a class = \"yellow\">Go to page 4</a>, \n",
    "                <a class = \"red\">Go to page 5</a>,\n",
    "                <b id = \"gray\">Go to pase 6</b>,\n",
    "                <c id = \"red\">Go to pase 7</c>\n",
    "            </p>\n",
    "        </div>\n",
    "     </body>           \n",
    "</html>                \n",
    "'''"
   ]
  },
  {
   "cell_type": "code",
   "execution_count": 85,
   "metadata": {},
   "outputs": [],
   "source": [
    "# 객체 생성\n",
    "\n",
    "dom = BeautifulSoup(html,'html')"
   ]
  },
  {
   "cell_type": "code",
   "execution_count": 86,
   "metadata": {},
   "outputs": [
    {
     "data": {
      "text/plain": [
       "<html><body><idoctype html=\"\">\n",
       "<meta charset=\"utf-8\"/>\n",
       "<title>BeautifulSoup Training</title>\n",
       "<div id=\"result\">\n",
       "<p class=\"row\">\n",
       "<a class=\"red\">Go to page 1</a>,\n",
       "                <a class=\"blue\">Go to page 2</a>,\n",
       "                <a class=\"green\">Go to page 3</a>,\n",
       "                <a class=\"yellow\">Go to page 4</a>, \n",
       "                <a class=\"red\">Go to page 5</a>,\n",
       "                <b id=\"gray\">Go to pase 6</b>,\n",
       "                <c id=\"red\">Go to pase 7</c>\n",
       "</p>\n",
       "</div>\n",
       "</idoctype></body></html>"
      ]
     },
     "execution_count": 86,
     "metadata": {},
     "output_type": "execute_result"
    }
   ],
   "source": [
    "# 서버로 html을 받으면 dom tree를 만듦\n",
    "\n",
    "dom"
   ]
  },
  {
   "cell_type": "markdown",
   "metadata": {},
   "source": [
    "# - find()\n",
    "### html 태그 중심으로 검색"
   ]
  },
  {
   "cell_type": "code",
   "execution_count": 79,
   "metadata": {},
   "outputs": [
    {
     "data": {
      "text/plain": [
       "<a class=\"red\">Go to page 1</a>"
      ]
     },
     "execution_count": 79,
     "metadata": {},
     "output_type": "execute_result"
    }
   ],
   "source": [
    "# 해당하는 태그의 첫번째\n",
    "\n",
    "dom.find('a')"
   ]
  },
  {
   "cell_type": "code",
   "execution_count": 87,
   "metadata": {},
   "outputs": [
    {
     "data": {
      "text/plain": [
       "[<a class=\"red\">Go to page 1</a>,\n",
       " <a class=\"blue\">Go to page 2</a>,\n",
       " <a class=\"green\">Go to page 3</a>,\n",
       " <a class=\"yellow\">Go to page 4</a>,\n",
       " <a class=\"red\">Go to page 5</a>]"
      ]
     },
     "execution_count": 87,
     "metadata": {},
     "output_type": "execute_result"
    }
   ],
   "source": [
    "# 해당하는 태그 전부\n",
    "\n",
    "dom.find_all('a')"
   ]
  },
  {
   "cell_type": "code",
   "execution_count": 81,
   "metadata": {},
   "outputs": [
    {
     "data": {
      "text/plain": [
       "<div id=\"result\">\n",
       "<p class=\"row\">\n",
       "<a class=\"red\">Go to page 1</a>,\n",
       "                <a class=\"blue\">Go to page 2</a>,\n",
       "                <a class=\"green\">Go to page 3</a>,\n",
       "                <a class=\"yellow\">Go to page 4</a>, \n",
       "                <b id=\"gray\">Go to pase 5</b>,\n",
       "                <c id=\"red\">Go to pase 6</c>\n",
       "</p>\n",
       "</div>"
      ]
     },
     "execution_count": 81,
     "metadata": {},
     "output_type": "execute_result"
    }
   ],
   "source": [
    "# 집합 기호 안에 attribute 검색\n",
    "# attribute가 id, id가 result인 것만 검색\n",
    "\n",
    "dom.find( '', {\"id\" : \"result\"})"
   ]
  },
  {
   "cell_type": "code",
   "execution_count": 90,
   "metadata": {},
   "outputs": [
    {
     "data": {
      "text/plain": [
       "<a class=\"red\">Go to page 1</a>"
      ]
     },
     "execution_count": 90,
     "metadata": {},
     "output_type": "execute_result"
    }
   ],
   "source": [
    "# attribute가 class, class가 red인 것만 검색\n",
    "# 첫 번째만 검색\n",
    "\n",
    "dom.find( '', {\"class\" : \"red\"})"
   ]
  },
  {
   "cell_type": "code",
   "execution_count": 89,
   "metadata": {},
   "outputs": [
    {
     "data": {
      "text/plain": [
       "[<a class=\"red\">Go to page 1</a>, <a class=\"red\">Go to page 5</a>]"
      ]
     },
     "execution_count": 89,
     "metadata": {},
     "output_type": "execute_result"
    }
   ],
   "source": [
    "# 전부 검색\n",
    "\n",
    "dom.find_all( '', {\"class\" : \"red\"})"
   ]
  },
  {
   "cell_type": "markdown",
   "metadata": {},
   "source": [
    "## find() 실습 1"
   ]
  },
  {
   "cell_type": "code",
   "execution_count": 99,
   "metadata": {},
   "outputs": [
    {
     "name": "stdout",
     "output_type": "stream",
     "text": [
      "404\n",
      "Not Found\n",
      "{'User-Agent': 'python-requests/2.22.0', 'Accept-Encoding': 'gzip, deflate', 'Accept': '*/*', 'Connection': 'keep-alive'}\n",
      "<!DOCTYPE html PUBLIC \"-//W3C//DTD XHTML+RDFa 1.0//EN\"\n",
      "  \"http://www.w3.org/MarkUp/DTD/xhtml-rdfa-1.dtd\">\n",
      "<html xmlns=\"http://www.w3.org/1999/xhtml\" xml:lang=\"en\" version=\"XHTML+RDFa 1.0\" dir=\"ltr\"\n",
      "  xmlns:content=\"http://purl.org/rss/1.0/modules/content/\"\n",
      "  xmlns:dc=\"http://purl.org/dc/terms/\"\n",
      "  xmlns:foaf=\"http://xmlns.com/foaf/0.1/\"\n",
      "  xmlns:og=\"http://ogp.me/ns#\"\n",
      "  xmlns:rdfs=\"http://www.w3.org/2000/01/rdf-schema#\"\n",
      "  xmlns:sioc=\"http://rdfs.org/sioc/ns#\"\n",
      "  xmlns:sioct=\"http://rdfs.org/sioc/types#\"\n",
      "  xmlns:skos=\"http://www.w3.org/2004/02/skos/core#\"\n",
      "  xmlns:xsd=\"http://www.w3.org/2001/XMLSchema#\">\n",
      "\n",
      "<head profile=\"http://www.w3.org/1999/xhtml/vocab\">\n",
      "  <meta charset=\"utf-8\" />\n",
      "<link rel=\"shortcut icon\" href=\"http://pythonscraping.com/misc/favicon.ico\" type=\"image/vnd.microsoft.icon\" />\n",
      "<meta name=\"viewport\" content=\"width=device-width, initial-scale=1\" />\n",
      "<meta name=\"MobileOptimized\" content=\"width\" />\n",
      "<meta name=\"Generator\" content=\"Drupal 7 (http://drupal.org)\" />\n",
      "<meta name=\"HandheldFriendly\" content=\"true\" />\n",
      "  <title>Page not found | Web Scraping with Python</title>\n",
      "  <style type=\"text/css\" media=\"all\">\n",
      "@import url(\"http://pythonscraping.com/modules/system/system.base.css?q4na2g\");\n",
      "@import url(\"http://pythonscraping.com/modules/system/system.menus.css?q4na2g\");\n",
      "@import url(\"http://pythonscraping.com/modules/system/system.messages.css?q4na2g\");\n",
      "@import url(\"http://pythonscraping.com/modules/system/system.theme.css?q4na2g\");\n",
      "</style>\n",
      "<style type=\"text/css\" media=\"all\">\n",
      "@import url(\"http://pythonscraping.com/modules/comment/comment.css?q4na2g\");\n",
      "@import url(\"http://pythonscraping.com/modules/field/theme/field.css?q4na2g\");\n",
      "@import url(\"http://pythonscraping.com/modules/node/node.css?q4na2g\");\n",
      "@import url(\"http://pythonscraping.com/modules/search/search.css?q4na2g\");\n",
      "@import url(\"http://pythonscraping.com/modules/user/user.css?q4na2g\");\n",
      "@import url(\"http://pythonscraping.com/sites/all/modules/views/css/views.css?q4na2g\");\n",
      "@import url(\"http://pythonscraping.com/sites/all/modules/ckeditor/css/ckeditor.css?q4na2g\");\n",
      "</style>\n",
      "<style type=\"text/css\" media=\"all\">\n",
      "@import url(\"http://pythonscraping.com/sites/all/modules/ctools/css/ctools.css?q4na2g\");\n",
      "</style>\n",
      "<style type=\"text/css\" media=\"all\">\n",
      "@import url(\"http://pythonscraping.com/sites/all/themes/skeletontheme/css/skeleton.css?q4na2g\");\n",
      "@import url(\"http://pythonscraping.com/sites/all/themes/skeletontheme/css/style.css?q4na2g\");\n",
      "@import url(\"http://pythonscraping.com/sites/all/themes/skeletontheme/css/buttons.css?q4na2g\");\n",
      "@import url(\"http://pythonscraping.com/sites/all/themes/skeletontheme/css/layout.css?q4na2g\");\n",
      "@import url(\"http://pythonscraping.com/sites/all/themes/skeletontheme/color/colors.css?q4na2g\");\n",
      "</style>\n",
      "  <script type=\"text/javascript\" src=\"http://pythonscraping.com/misc/jquery.js?v=1.4.4\"></script>\n",
      "<script type=\"text/javascript\" src=\"http://pythonscraping.com/misc/jquery.once.js?v=1.2\"></script>\n",
      "<script type=\"text/javascript\" src=\"http://pythonscraping.com/misc/drupal.js?q4na2g\"></script>\n",
      "<script type=\"text/javascript\" src=\"http://pythonscraping.com/sites/all/themes/skeletontheme/js/jquery.mobilemenu.js?q4na2g\"></script>\n",
      "<script type=\"text/javascript\">\n",
      "<!--//--><![CDATA[//><!--\n",
      "jQuery(document).ready(function($) { \r\n",
      "\t\r\n",
      "\t$(\"#navigation .content > ul\").mobileMenu({\r\n",
      "\t\tprependTo: \"#navigation\",\r\n",
      "\t\tcombine: false,\r\n",
      "        switchWidth: 760,\r\n",
      "        topOptionText: Drupal.settings.skeletontheme['topoptiontext']\r\n",
      "\t});\r\n",
      "\t\r\n",
      "\t});\n",
      "//--><!]]>\n",
      "</script>\n",
      "<script type=\"text/javascript\" src=\"http://pythonscraping.com/sites/all/modules/google_analytics/googleanalytics.js?q4na2g\"></script>\n",
      "<script type=\"text/javascript\">\n",
      "<!--//--><![CDATA[//><!--\n",
      "(function(i,s,o,g,r,a,m){i[\"GoogleAnalyticsObject\"]=r;i[r]=i[r]||function(){(i[r].q=i[r].q||[]).push(arguments)},i[r].l=1*new Date();a=s.createElement(o),m=s.getElementsByTagName(o)[0];a.async=1;a.src=g;m.parentNode.insertBefore(a,m)})(window,document,\"script\",\"https://www.google-analytics.com/analytics.js\",\"ga\");ga(\"create\", \"UA-57871098-1\", {\"cookieDomain\":\"auto\"});ga(\"set\", \"anonymizeIp\", true);ga(\"set\", \"page\", \"/404.html?page=\" + document.location.pathname + document.location.search + \"&from=\" + document.referrer);ga(\"send\", \"pageview\");\n",
      "//--><!]]>\n",
      "</script>\n",
      "<script type=\"text/javascript\">\n",
      "<!--//--><![CDATA[//><!--\n",
      "jQuery.extend(Drupal.settings, {\"basePath\":\"\\/\",\"pathPrefix\":\"\",\"skeletontheme\":{\"topoptiontext\":\"Select a page\"},\"ajaxPageState\":{\"theme\":\"skeletontheme\",\"theme_token\":\"fDnm9hYSjb3Tpv5uZXiijBXVEsazcOG6hpsbtNuvVY4\",\"js\":{\"misc\\/jquery.js\":1,\"misc\\/jquery.once.js\":1,\"misc\\/drupal.js\":1,\"sites\\/all\\/themes\\/skeletontheme\\/js\\/jquery.mobilemenu.js\":1,\"0\":1,\"sites\\/all\\/modules\\/google_analytics\\/googleanalytics.js\":1,\"1\":1},\"css\":{\"modules\\/system\\/system.base.css\":1,\"modules\\/system\\/system.menus.css\":1,\"modules\\/system\\/system.messages.css\":1,\"modules\\/system\\/system.theme.css\":1,\"modules\\/comment\\/comment.css\":1,\"modules\\/field\\/theme\\/field.css\":1,\"modules\\/node\\/node.css\":1,\"modules\\/search\\/search.css\":1,\"modules\\/user\\/user.css\":1,\"sites\\/all\\/modules\\/views\\/css\\/views.css\":1,\"sites\\/all\\/modules\\/ckeditor\\/css\\/ckeditor.css\":1,\"sites\\/all\\/modules\\/ctools\\/css\\/ctools.css\":1,\"sites\\/all\\/themes\\/skeletontheme\\/css\\/skeleton.css\":1,\"sites\\/all\\/themes\\/skeletontheme\\/css\\/style.css\":1,\"sites\\/all\\/themes\\/skeletontheme\\/css\\/buttons.css\":1,\"sites\\/all\\/themes\\/skeletontheme\\/css\\/layout.css\":1,\"sites\\/all\\/themes\\/skeletontheme\\/color\\/colors.css\":1}},\"googleanalytics\":{\"trackOutbound\":1,\"trackMailto\":1,\"trackDownload\":1,\"trackDownloadExtensions\":\"7z|aac|arc|arj|asf|asx|avi|bin|csv|doc(x|m)?|dot(x|m)?|exe|flv|gif|gz|gzip|hqx|jar|jpe?g|js|mp(2|3|4|e?g)|mov(ie)?|msi|msp|pdf|phps|png|ppt(x|m)?|pot(x|m)?|pps(x|m)?|ppam|sld(x|m)?|thmx|qtm?|ra(m|r)?|sea|sit|tar|tgz|torrent|txt|wav|wma|wmv|wpd|xls(x|m|b)?|xlt(x|m)|xlam|xml|z|zip\"}});\n",
      "//--><!]]>\n",
      "</script>\n",
      "</head>\n",
      "<body class=\"html not-front not-logged-in one-sidebar sidebar-first page-page page-page-page3html\" >\n",
      "  <div id=\"skip-link\">\n",
      "    <a href=\"#main-content\" class=\"element-invisible element-focusable\">Skip to main content</a>\n",
      "  </div>\n",
      "    <div id=\"wrap\">\n",
      "    <div class=\"container\">\n",
      "        \n",
      "                \n",
      "        <div class=\"clear\"></div>\n",
      "        \n",
      "        <!-- #header -->\n",
      "                <div id=\"header\" class=\"sixteen columns clearfix\">   \n",
      "                \n",
      "            <div class=\"inner\">\n",
      "    \n",
      "                                  <a href=\"/\" title=\"Home\" rel=\"home\" id=\"logo\">\n",
      "                    <img src=\"http://pythonscraping.com/sites/default/files/lrg_0.jpg\" alt=\"Home\" />\n",
      "                  </a>\n",
      "                                \n",
      "                                <div id=\"name-and-slogan\">\n",
      "                \n",
      "                                        <div id=\"site-name\">\n",
      "                    <a href=\"/\" title=\"Home\" rel=\"home\">Web Scraping with Python</a>\n",
      "                    </div>\n",
      "                                        \n",
      "                                    \n",
      "                </div>\n",
      "                            </div>\n",
      "        </div><!-- /#header -->\n",
      "        \n",
      "                \n",
      "        <div class=\"clear\"></div>\n",
      "        \n",
      "        <!-- #navigation -->\n",
      "        <div id=\"navigation\" class=\"sixteen columns clearfix\">\n",
      "        \n",
      "            <div class=\"menu-header\">\n",
      "                            \t\t\t\t<div class=\"content\">\n",
      "\t\t\t\t                </div>\n",
      "                        </div>\n",
      "            \n",
      "        </div><!-- /#navigation -->\n",
      "        \n",
      "                <!-- #sidebar-first -->\n",
      "        <div id=\"sidebar-first\" class=\"five columns\">\n",
      "              <div class=\"region region-sidebar-first\">\n",
      "    <div id=\"block-block-1\" class=\"block block-block\">\n",
      "\n",
      "    <h2>Buy WsWP from O&#039;Reilly</h2>\n",
      "  \n",
      "  <div class=\"content\">\n",
      "    <p><a href=\"http://shop.oreilly.com/product/0636920078067.do\" target=\"_blank\"><img src=\"https://covers.oreillystatic.com/images/0636920078067/lrg.jpg\" style=\"max-width:200px;\" /></a></p>\n",
      "  </div>\n",
      "</div>\n",
      "  </div>\n",
      "        </div><!-- /#sidebar-first -->\n",
      "                \n",
      "                <div id=\"content\" class=\"eleven columns\">\n",
      "\t\t        \n",
      "                    \n",
      "                        \n",
      "            <div id=\"main\">\n",
      "            \n",
      "                                \n",
      "                                \n",
      "                                <h1 class=\"title\" id=\"page-title\">\n",
      "                  Page not found                </h1>\n",
      "                                \n",
      "                                \n",
      "                                <div class=\"tabs\">\n",
      "                                  </div>\n",
      "                                \n",
      "                                \n",
      "                                \n",
      "                  <div class=\"region region-content\">\n",
      "    <div id=\"block-system-main\" class=\"block block-system\">\n",
      "\n",
      "    \n",
      "  <div class=\"content\">\n",
      "    The requested page \"/page/page3.html\" could not be found.  </div>\n",
      "</div>\n",
      "  </div>\n",
      "                                \n",
      "            </div>\n",
      "        \n",
      "        </div><!-- /#content -->\n",
      "        \n",
      "                \n",
      "        <div class=\"clear\"></div>\n",
      "        \n",
      "                \n",
      "\t</div>\n",
      "        \n",
      "\t<div id=\"footer\" >\n",
      "        <div class=\"container\">\n",
      "        \t<div class=\"sixteen columns clearfix\">\n",
      "        \n",
      "                <div class=\"one_third\">\n",
      "                                </div>\n",
      "                \n",
      "                <div class=\"one_third\">\n",
      "                                </div>\n",
      "                \n",
      "                <div class=\"one_third last\">\n",
      "                                </div>\n",
      "        \n",
      "                <div class=\"clear\"></div>\n",
      "                \n",
      "                                \n",
      "                <div class=\"clear\"></div>\n",
      "                \n",
      "                <div id=\"credits\">\n",
      "                2020                                 Web Scraping with Python<br/>\n",
      "                                &copy; Ryan Mitchell, All Rights Reserved. For questions about reproduction or use of any material on this site, please contact ryan.e.mitchell@gmail.com\n",
      "                </div>\n",
      "        \t</div>\n",
      "        </div>\n",
      "    </div>\n",
      "    \n",
      "</div> <!-- /#wrap -->  </body>\n",
      "</html>\n",
      "\n"
     ]
    },
    {
     "data": {
      "text/plain": [
       "'<!DOCTYPE html PUBLIC \"-//W3C//DTD XHTML+RDFa 1.0//EN\"\\n  \"http://www.w3.org/MarkUp/DTD/xhtml-rdfa-1.dtd\">\\n<html xmlns=\"http://www.w3.org/1999/xhtml\" xml:lang=\"en\" version=\"XHTML+RDFa 1.0\" dir=\"ltr\"\\n  xmlns:content=\"http://purl.org/rss/1.0/modules/content/\"\\n  xmlns:dc=\"http://purl.org/dc/terms/\"\\n  xmlns:foaf=\"http://xmlns.com/foaf/0.1/\"\\n  xmlns:og=\"http://ogp.me/ns#\"\\n  xmlns:rdfs=\"http://www.w3.org/2000/01/rdf-schema#\"\\n  xmlns:sioc=\"http://rdfs.org/sioc/ns#\"\\n  xmlns:sioct=\"http://rdfs.org/sioc/types#\"\\n  xmlns:skos=\"http://www.w3.org/2004/02/skos/core#\"\\n  xmlns:xsd=\"http://www.w3.org/2001/XMLSchema#\">\\n\\n<head profile=\"http://www.w3.org/1999/xhtml/vocab\">\\n  <meta charset=\"utf-8\" />\\n<link rel=\"shortcut icon\" href=\"http://pythonscraping.com/misc/favicon.ico\" type=\"image/vnd.microsoft.icon\" />\\n<meta name=\"viewport\" content=\"width=device-width, initial-scale=1\" />\\n<meta name=\"MobileOptimized\" content=\"width\" />\\n<meta name=\"Generator\" content=\"Drupal 7 (http://drupal.org)\" />\\n<meta name=\"HandheldFriendly\" content=\"true\" />\\n  <title>Page not found | Web Scraping with Python</title>\\n  <style type=\"text/css\" media=\"all\">\\n@import url(\"http://pythonscraping.com/modules/system/system.base.css?q4na2g\");\\n@import url(\"http://pythonscraping.com/modules/system/system.menus.css?q4na2g\");\\n@import url(\"http://pythonscraping.com/modules/system/system.messages.css?q4na2g\");\\n@import url(\"http://pythonscraping.com/modules/system/system.theme.css?q4na2g\");\\n</style>\\n<style type=\"text/css\" media=\"all\">\\n@import url(\"http://pythonscraping.com/modules/comment/comment.css?q4na2g\");\\n@import url(\"http://pythonscraping.com/modules/field/theme/field.css?q4na2g\");\\n@import url(\"http://pythonscraping.com/modules/node/node.css?q4na2g\");\\n@import url(\"http://pythonscraping.com/modules/search/search.css?q4na2g\");\\n@import url(\"http://pythonscraping.com/modules/user/user.css?q4na2g\");\\n@import url(\"http://pythonscraping.com/sites/all/modules/views/css/views.css?q4na2g\");\\n@import url(\"http://pythonscraping.com/sites/all/modules/ckeditor/css/ckeditor.css?q4na2g\");\\n</style>\\n<style type=\"text/css\" media=\"all\">\\n@import url(\"http://pythonscraping.com/sites/all/modules/ctools/css/ctools.css?q4na2g\");\\n</style>\\n<style type=\"text/css\" media=\"all\">\\n@import url(\"http://pythonscraping.com/sites/all/themes/skeletontheme/css/skeleton.css?q4na2g\");\\n@import url(\"http://pythonscraping.com/sites/all/themes/skeletontheme/css/style.css?q4na2g\");\\n@import url(\"http://pythonscraping.com/sites/all/themes/skeletontheme/css/buttons.css?q4na2g\");\\n@import url(\"http://pythonscraping.com/sites/all/themes/skeletontheme/css/layout.css?q4na2g\");\\n@import url(\"http://pythonscraping.com/sites/all/themes/skeletontheme/color/colors.css?q4na2g\");\\n</style>\\n  <script type=\"text/javascript\" src=\"http://pythonscraping.com/misc/jquery.js?v=1.4.4\"></script>\\n<script type=\"text/javascript\" src=\"http://pythonscraping.com/misc/jquery.once.js?v=1.2\"></script>\\n<script type=\"text/javascript\" src=\"http://pythonscraping.com/misc/drupal.js?q4na2g\"></script>\\n<script type=\"text/javascript\" src=\"http://pythonscraping.com/sites/all/themes/skeletontheme/js/jquery.mobilemenu.js?q4na2g\"></script>\\n<script type=\"text/javascript\">\\n<!--//--><![CDATA[//><!--\\njQuery(document).ready(function($) { \\r\\n\\t\\r\\n\\t$(\"#navigation .content > ul\").mobileMenu({\\r\\n\\t\\tprependTo: \"#navigation\",\\r\\n\\t\\tcombine: false,\\r\\n        switchWidth: 760,\\r\\n        topOptionText: Drupal.settings.skeletontheme[\\'topoptiontext\\']\\r\\n\\t});\\r\\n\\t\\r\\n\\t});\\n//--><!]]>\\n</script>\\n<script type=\"text/javascript\" src=\"http://pythonscraping.com/sites/all/modules/google_analytics/googleanalytics.js?q4na2g\"></script>\\n<script type=\"text/javascript\">\\n<!--//--><![CDATA[//><!--\\n(function(i,s,o,g,r,a,m){i[\"GoogleAnalyticsObject\"]=r;i[r]=i[r]||function(){(i[r].q=i[r].q||[]).push(arguments)},i[r].l=1*new Date();a=s.createElement(o),m=s.getElementsByTagName(o)[0];a.async=1;a.src=g;m.parentNode.insertBefore(a,m)})(window,document,\"script\",\"https://www.google-analytics.com/analytics.js\",\"ga\");ga(\"create\", \"UA-57871098-1\", {\"cookieDomain\":\"auto\"});ga(\"set\", \"anonymizeIp\", true);ga(\"set\", \"page\", \"/404.html?page=\" + document.location.pathname + document.location.search + \"&from=\" + document.referrer);ga(\"send\", \"pageview\");\\n//--><!]]>\\n</script>\\n<script type=\"text/javascript\">\\n<!--//--><![CDATA[//><!--\\njQuery.extend(Drupal.settings, {\"basePath\":\"\\\\/\",\"pathPrefix\":\"\",\"skeletontheme\":{\"topoptiontext\":\"Select a page\"},\"ajaxPageState\":{\"theme\":\"skeletontheme\",\"theme_token\":\"fDnm9hYSjb3Tpv5uZXiijBXVEsazcOG6hpsbtNuvVY4\",\"js\":{\"misc\\\\/jquery.js\":1,\"misc\\\\/jquery.once.js\":1,\"misc\\\\/drupal.js\":1,\"sites\\\\/all\\\\/themes\\\\/skeletontheme\\\\/js\\\\/jquery.mobilemenu.js\":1,\"0\":1,\"sites\\\\/all\\\\/modules\\\\/google_analytics\\\\/googleanalytics.js\":1,\"1\":1},\"css\":{\"modules\\\\/system\\\\/system.base.css\":1,\"modules\\\\/system\\\\/system.menus.css\":1,\"modules\\\\/system\\\\/system.messages.css\":1,\"modules\\\\/system\\\\/system.theme.css\":1,\"modules\\\\/comment\\\\/comment.css\":1,\"modules\\\\/field\\\\/theme\\\\/field.css\":1,\"modules\\\\/node\\\\/node.css\":1,\"modules\\\\/search\\\\/search.css\":1,\"modules\\\\/user\\\\/user.css\":1,\"sites\\\\/all\\\\/modules\\\\/views\\\\/css\\\\/views.css\":1,\"sites\\\\/all\\\\/modules\\\\/ckeditor\\\\/css\\\\/ckeditor.css\":1,\"sites\\\\/all\\\\/modules\\\\/ctools\\\\/css\\\\/ctools.css\":1,\"sites\\\\/all\\\\/themes\\\\/skeletontheme\\\\/css\\\\/skeleton.css\":1,\"sites\\\\/all\\\\/themes\\\\/skeletontheme\\\\/css\\\\/style.css\":1,\"sites\\\\/all\\\\/themes\\\\/skeletontheme\\\\/css\\\\/buttons.css\":1,\"sites\\\\/all\\\\/themes\\\\/skeletontheme\\\\/css\\\\/layout.css\":1,\"sites\\\\/all\\\\/themes\\\\/skeletontheme\\\\/color\\\\/colors.css\":1}},\"googleanalytics\":{\"trackOutbound\":1,\"trackMailto\":1,\"trackDownload\":1,\"trackDownloadExtensions\":\"7z|aac|arc|arj|asf|asx|avi|bin|csv|doc(x|m)?|dot(x|m)?|exe|flv|gif|gz|gzip|hqx|jar|jpe?g|js|mp(2|3|4|e?g)|mov(ie)?|msi|msp|pdf|phps|png|ppt(x|m)?|pot(x|m)?|pps(x|m)?|ppam|sld(x|m)?|thmx|qtm?|ra(m|r)?|sea|sit|tar|tgz|torrent|txt|wav|wma|wmv|wpd|xls(x|m|b)?|xlt(x|m)|xlam|xml|z|zip\"}});\\n//--><!]]>\\n</script>\\n</head>\\n<body class=\"html not-front not-logged-in one-sidebar sidebar-first page-page page-page-page3html\" >\\n  <div id=\"skip-link\">\\n    <a href=\"#main-content\" class=\"element-invisible element-focusable\">Skip to main content</a>\\n  </div>\\n    <div id=\"wrap\">\\n    <div class=\"container\">\\n        \\n                \\n        <div class=\"clear\"></div>\\n        \\n        <!-- #header -->\\n                <div id=\"header\" class=\"sixteen columns clearfix\">   \\n                \\n            <div class=\"inner\">\\n    \\n                                  <a href=\"/\" title=\"Home\" rel=\"home\" id=\"logo\">\\n                    <img src=\"http://pythonscraping.com/sites/default/files/lrg_0.jpg\" alt=\"Home\" />\\n                  </a>\\n                                \\n                                <div id=\"name-and-slogan\">\\n                \\n                                        <div id=\"site-name\">\\n                    <a href=\"/\" title=\"Home\" rel=\"home\">Web Scraping with Python</a>\\n                    </div>\\n                                        \\n                                    \\n                </div>\\n                            </div>\\n        </div><!-- /#header -->\\n        \\n                \\n        <div class=\"clear\"></div>\\n        \\n        <!-- #navigation -->\\n        <div id=\"navigation\" class=\"sixteen columns clearfix\">\\n        \\n            <div class=\"menu-header\">\\n                            \\t\\t\\t\\t<div class=\"content\">\\n\\t\\t\\t\\t                </div>\\n                        </div>\\n            \\n        </div><!-- /#navigation -->\\n        \\n                <!-- #sidebar-first -->\\n        <div id=\"sidebar-first\" class=\"five columns\">\\n              <div class=\"region region-sidebar-first\">\\n    <div id=\"block-block-1\" class=\"block block-block\">\\n\\n    <h2>Buy WsWP from O&#039;Reilly</h2>\\n  \\n  <div class=\"content\">\\n    <p><a href=\"http://shop.oreilly.com/product/0636920078067.do\" target=\"_blank\"><img src=\"https://covers.oreillystatic.com/images/0636920078067/lrg.jpg\" style=\"max-width:200px;\" /></a></p>\\n  </div>\\n</div>\\n  </div>\\n        </div><!-- /#sidebar-first -->\\n                \\n                <div id=\"content\" class=\"eleven columns\">\\n\\t\\t        \\n                    \\n                        \\n            <div id=\"main\">\\n            \\n                                \\n                                \\n                                <h1 class=\"title\" id=\"page-title\">\\n                  Page not found                </h1>\\n                                \\n                                \\n                                <div class=\"tabs\">\\n                                  </div>\\n                                \\n                                \\n                                \\n                  <div class=\"region region-content\">\\n    <div id=\"block-system-main\" class=\"block block-system\">\\n\\n    \\n  <div class=\"content\">\\n    The requested page \"/page/page3.html\" could not be found.  </div>\\n</div>\\n  </div>\\n                                \\n            </div>\\n        \\n        </div><!-- /#content -->\\n        \\n                \\n        <div class=\"clear\"></div>\\n        \\n                \\n\\t</div>\\n        \\n\\t<div id=\"footer\" >\\n        <div class=\"container\">\\n        \\t<div class=\"sixteen columns clearfix\">\\n        \\n                <div class=\"one_third\">\\n                                </div>\\n                \\n                <div class=\"one_third\">\\n                                </div>\\n                \\n                <div class=\"one_third last\">\\n                                </div>\\n        \\n                <div class=\"clear\"></div>\\n                \\n                                \\n                <div class=\"clear\"></div>\\n                \\n                <div id=\"credits\">\\n                2020                                 Web Scraping with Python<br/>\\n                                &copy; Ryan Mitchell, All Rights Reserved. For questions about reproduction or use of any material on this site, please contact ryan.e.mitchell@gmail.com\\n                </div>\\n        \\t</div>\\n        </div>\\n    </div>\\n    \\n</div> <!-- /#wrap -->  </body>\\n</html>\\n'"
      ]
     },
     "execution_count": 99,
     "metadata": {},
     "output_type": "execute_result"
    }
   ],
   "source": [
    "# get()\n",
    "# 이 상태는 dom tree가 아니기 때문에, 크롤링 불가\n",
    "\n",
    "url = 'http://pythonscraping.com/page/page3.html'\n",
    "html = getdownload(url)\n",
    "html.text"
   ]
  },
  {
   "cell_type": "code",
   "execution_count": 100,
   "metadata": {},
   "outputs": [
    {
     "data": {
      "text/plain": [
       "<!DOCTYPE html PUBLIC \"-//W3C//DTD XHTML+RDFa 1.0//EN\" \"http://www.w3.org/MarkUp/DTD/xhtml-rdfa-1.dtd\">\n",
       "<html dir=\"ltr\" version=\"XHTML+RDFa 1.0\" xml:lang=\"en\" xmlns=\"http://www.w3.org/1999/xhtml\" xmlns:content=\"http://purl.org/rss/1.0/modules/content/\" xmlns:dc=\"http://purl.org/dc/terms/\" xmlns:foaf=\"http://xmlns.com/foaf/0.1/\" xmlns:og=\"http://ogp.me/ns#\" xmlns:rdfs=\"http://www.w3.org/2000/01/rdf-schema#\" xmlns:sioc=\"http://rdfs.org/sioc/ns#\" xmlns:sioct=\"http://rdfs.org/sioc/types#\" xmlns:skos=\"http://www.w3.org/2004/02/skos/core#\" xmlns:xsd=\"http://www.w3.org/2001/XMLSchema#\">\n",
       "<head profile=\"http://www.w3.org/1999/xhtml/vocab\">\n",
       "<meta charset=\"utf-8\"/>\n",
       "<link href=\"http://pythonscraping.com/misc/favicon.ico\" rel=\"shortcut icon\" type=\"image/vnd.microsoft.icon\"/>\n",
       "<meta content=\"width=device-width, initial-scale=1\" name=\"viewport\"/>\n",
       "<meta content=\"width\" name=\"MobileOptimized\"/>\n",
       "<meta content=\"Drupal 7 (http://drupal.org)\" name=\"Generator\"/>\n",
       "<meta content=\"true\" name=\"HandheldFriendly\"/>\n",
       "<title>Page not found | Web Scraping with Python</title>\n",
       "<style media=\"all\" type=\"text/css\">\n",
       "@import url(\"http://pythonscraping.com/modules/system/system.base.css?q4na2g\");\n",
       "@import url(\"http://pythonscraping.com/modules/system/system.menus.css?q4na2g\");\n",
       "@import url(\"http://pythonscraping.com/modules/system/system.messages.css?q4na2g\");\n",
       "@import url(\"http://pythonscraping.com/modules/system/system.theme.css?q4na2g\");\n",
       "</style>\n",
       "<style media=\"all\" type=\"text/css\">\n",
       "@import url(\"http://pythonscraping.com/modules/comment/comment.css?q4na2g\");\n",
       "@import url(\"http://pythonscraping.com/modules/field/theme/field.css?q4na2g\");\n",
       "@import url(\"http://pythonscraping.com/modules/node/node.css?q4na2g\");\n",
       "@import url(\"http://pythonscraping.com/modules/search/search.css?q4na2g\");\n",
       "@import url(\"http://pythonscraping.com/modules/user/user.css?q4na2g\");\n",
       "@import url(\"http://pythonscraping.com/sites/all/modules/views/css/views.css?q4na2g\");\n",
       "@import url(\"http://pythonscraping.com/sites/all/modules/ckeditor/css/ckeditor.css?q4na2g\");\n",
       "</style>\n",
       "<style media=\"all\" type=\"text/css\">\n",
       "@import url(\"http://pythonscraping.com/sites/all/modules/ctools/css/ctools.css?q4na2g\");\n",
       "</style>\n",
       "<style media=\"all\" type=\"text/css\">\n",
       "@import url(\"http://pythonscraping.com/sites/all/themes/skeletontheme/css/skeleton.css?q4na2g\");\n",
       "@import url(\"http://pythonscraping.com/sites/all/themes/skeletontheme/css/style.css?q4na2g\");\n",
       "@import url(\"http://pythonscraping.com/sites/all/themes/skeletontheme/css/buttons.css?q4na2g\");\n",
       "@import url(\"http://pythonscraping.com/sites/all/themes/skeletontheme/css/layout.css?q4na2g\");\n",
       "@import url(\"http://pythonscraping.com/sites/all/themes/skeletontheme/color/colors.css?q4na2g\");\n",
       "</style>\n",
       "<script src=\"http://pythonscraping.com/misc/jquery.js?v=1.4.4\" type=\"text/javascript\"></script>\n",
       "<script src=\"http://pythonscraping.com/misc/jquery.once.js?v=1.2\" type=\"text/javascript\"></script>\n",
       "<script src=\"http://pythonscraping.com/misc/drupal.js?q4na2g\" type=\"text/javascript\"></script>\n",
       "<script src=\"http://pythonscraping.com/sites/all/themes/skeletontheme/js/jquery.mobilemenu.js?q4na2g\" type=\"text/javascript\"></script>\n",
       "<script type=\"text/javascript\">\n",
       "<!--//--><![CDATA[//><!--\n",
       "jQuery(document).ready(function($) { \n",
       "\t\n",
       "\t$(\"#navigation .content > ul\").mobileMenu({\n",
       "\t\tprependTo: \"#navigation\",\n",
       "\t\tcombine: false,\n",
       "        switchWidth: 760,\n",
       "        topOptionText: Drupal.settings.skeletontheme['topoptiontext']\n",
       "\t});\n",
       "\t\n",
       "\t});\n",
       "//--><!]]>\n",
       "</script>\n",
       "<script src=\"http://pythonscraping.com/sites/all/modules/google_analytics/googleanalytics.js?q4na2g\" type=\"text/javascript\"></script>\n",
       "<script type=\"text/javascript\">\n",
       "<!--//--><![CDATA[//><!--\n",
       "(function(i,s,o,g,r,a,m){i[\"GoogleAnalyticsObject\"]=r;i[r]=i[r]||function(){(i[r].q=i[r].q||[]).push(arguments)},i[r].l=1*new Date();a=s.createElement(o),m=s.getElementsByTagName(o)[0];a.async=1;a.src=g;m.parentNode.insertBefore(a,m)})(window,document,\"script\",\"https://www.google-analytics.com/analytics.js\",\"ga\");ga(\"create\", \"UA-57871098-1\", {\"cookieDomain\":\"auto\"});ga(\"set\", \"anonymizeIp\", true);ga(\"set\", \"page\", \"/404.html?page=\" + document.location.pathname + document.location.search + \"&from=\" + document.referrer);ga(\"send\", \"pageview\");\n",
       "//--><!]]>\n",
       "</script>\n",
       "<script type=\"text/javascript\">\n",
       "<!--//--><![CDATA[//><!--\n",
       "jQuery.extend(Drupal.settings, {\"basePath\":\"\\/\",\"pathPrefix\":\"\",\"skeletontheme\":{\"topoptiontext\":\"Select a page\"},\"ajaxPageState\":{\"theme\":\"skeletontheme\",\"theme_token\":\"fDnm9hYSjb3Tpv5uZXiijBXVEsazcOG6hpsbtNuvVY4\",\"js\":{\"misc\\/jquery.js\":1,\"misc\\/jquery.once.js\":1,\"misc\\/drupal.js\":1,\"sites\\/all\\/themes\\/skeletontheme\\/js\\/jquery.mobilemenu.js\":1,\"0\":1,\"sites\\/all\\/modules\\/google_analytics\\/googleanalytics.js\":1,\"1\":1},\"css\":{\"modules\\/system\\/system.base.css\":1,\"modules\\/system\\/system.menus.css\":1,\"modules\\/system\\/system.messages.css\":1,\"modules\\/system\\/system.theme.css\":1,\"modules\\/comment\\/comment.css\":1,\"modules\\/field\\/theme\\/field.css\":1,\"modules\\/node\\/node.css\":1,\"modules\\/search\\/search.css\":1,\"modules\\/user\\/user.css\":1,\"sites\\/all\\/modules\\/views\\/css\\/views.css\":1,\"sites\\/all\\/modules\\/ckeditor\\/css\\/ckeditor.css\":1,\"sites\\/all\\/modules\\/ctools\\/css\\/ctools.css\":1,\"sites\\/all\\/themes\\/skeletontheme\\/css\\/skeleton.css\":1,\"sites\\/all\\/themes\\/skeletontheme\\/css\\/style.css\":1,\"sites\\/all\\/themes\\/skeletontheme\\/css\\/buttons.css\":1,\"sites\\/all\\/themes\\/skeletontheme\\/css\\/layout.css\":1,\"sites\\/all\\/themes\\/skeletontheme\\/color\\/colors.css\":1}},\"googleanalytics\":{\"trackOutbound\":1,\"trackMailto\":1,\"trackDownload\":1,\"trackDownloadExtensions\":\"7z|aac|arc|arj|asf|asx|avi|bin|csv|doc(x|m)?|dot(x|m)?|exe|flv|gif|gz|gzip|hqx|jar|jpe?g|js|mp(2|3|4|e?g)|mov(ie)?|msi|msp|pdf|phps|png|ppt(x|m)?|pot(x|m)?|pps(x|m)?|ppam|sld(x|m)?|thmx|qtm?|ra(m|r)?|sea|sit|tar|tgz|torrent|txt|wav|wma|wmv|wpd|xls(x|m|b)?|xlt(x|m)|xlam|xml|z|zip\"}});\n",
       "//--><!]]>\n",
       "</script>\n",
       "</head>\n",
       "<body class=\"html not-front not-logged-in one-sidebar sidebar-first page-page page-page-page3html\">\n",
       "<div id=\"skip-link\">\n",
       "<a class=\"element-invisible element-focusable\" href=\"#main-content\">Skip to main content</a>\n",
       "</div>\n",
       "<div id=\"wrap\">\n",
       "<div class=\"container\">\n",
       "<div class=\"clear\"></div>\n",
       "<!-- #header -->\n",
       "<div class=\"sixteen columns clearfix\" id=\"header\">\n",
       "<div class=\"inner\">\n",
       "<a href=\"/\" id=\"logo\" rel=\"home\" title=\"Home\">\n",
       "<img alt=\"Home\" src=\"http://pythonscraping.com/sites/default/files/lrg_0.jpg\"/>\n",
       "</a>\n",
       "<div id=\"name-and-slogan\">\n",
       "<div id=\"site-name\">\n",
       "<a href=\"/\" rel=\"home\" title=\"Home\">Web Scraping with Python</a>\n",
       "</div>\n",
       "</div>\n",
       "</div>\n",
       "</div><!-- /#header -->\n",
       "<div class=\"clear\"></div>\n",
       "<!-- #navigation -->\n",
       "<div class=\"sixteen columns clearfix\" id=\"navigation\">\n",
       "<div class=\"menu-header\">\n",
       "<div class=\"content\">\n",
       "</div>\n",
       "</div>\n",
       "</div><!-- /#navigation -->\n",
       "<!-- #sidebar-first -->\n",
       "<div class=\"five columns\" id=\"sidebar-first\">\n",
       "<div class=\"region region-sidebar-first\">\n",
       "<div class=\"block block-block\" id=\"block-block-1\">\n",
       "<h2>Buy WsWP from O'Reilly</h2>\n",
       "<div class=\"content\">\n",
       "<p><a href=\"http://shop.oreilly.com/product/0636920078067.do\" target=\"_blank\"><img src=\"https://covers.oreillystatic.com/images/0636920078067/lrg.jpg\" style=\"max-width:200px;\"/></a></p>\n",
       "</div>\n",
       "</div>\n",
       "</div>\n",
       "</div><!-- /#sidebar-first -->\n",
       "<div class=\"eleven columns\" id=\"content\">\n",
       "<div id=\"main\">\n",
       "<h1 class=\"title\" id=\"page-title\">\n",
       "                  Page not found                </h1>\n",
       "<div class=\"tabs\">\n",
       "</div>\n",
       "<div class=\"region region-content\">\n",
       "<div class=\"block block-system\" id=\"block-system-main\">\n",
       "<div class=\"content\">\n",
       "    The requested page \"/page/page3.html\" could not be found.  </div>\n",
       "</div>\n",
       "</div>\n",
       "</div>\n",
       "</div><!-- /#content -->\n",
       "<div class=\"clear\"></div>\n",
       "</div>\n",
       "<div id=\"footer\">\n",
       "<div class=\"container\">\n",
       "<div class=\"sixteen columns clearfix\">\n",
       "<div class=\"one_third\">\n",
       "</div>\n",
       "<div class=\"one_third\">\n",
       "</div>\n",
       "<div class=\"one_third last\">\n",
       "</div>\n",
       "<div class=\"clear\"></div>\n",
       "<div class=\"clear\"></div>\n",
       "<div id=\"credits\">\n",
       "                2020                                 Web Scraping with Python<br/>\n",
       "                                © Ryan Mitchell, All Rights Reserved. For questions about reproduction or use of any material on this site, please contact ryan.e.mitchell@gmail.com\n",
       "                </div>\n",
       "</div>\n",
       "</div>\n",
       "</div>\n",
       "</div> <!-- /#wrap --> </body>\n",
       "</html>"
      ]
     },
     "execution_count": 100,
     "metadata": {},
     "output_type": "execute_result"
    }
   ],
   "source": [
    "# BeautifulSoup으로 dom tree 생성\n",
    "\n",
    "dom = BeautifulSoup(html.text, 'lxml') ; dom"
   ]
  },
  {
   "cell_type": "code",
   "execution_count": 105,
   "metadata": {},
   "outputs": [
    {
     "data": {
      "text/plain": [
       "<div id=\"footer\">\n",
       "<div class=\"container\">\n",
       "<div class=\"sixteen columns clearfix\">\n",
       "<div class=\"one_third\">\n",
       "</div>\n",
       "<div class=\"one_third\">\n",
       "</div>\n",
       "<div class=\"one_third last\">\n",
       "</div>\n",
       "<div class=\"clear\"></div>\n",
       "<div class=\"clear\"></div>\n",
       "<div id=\"credits\">\n",
       "                2020                                 Web Scraping with Python<br/>\n",
       "                                © Ryan Mitchell, All Rights Reserved. For questions about reproduction or use of any material on this site, please contact ryan.e.mitchell@gmail.com\n",
       "                </div>\n",
       "</div>\n",
       "</div>\n",
       "</div>"
      ]
     },
     "execution_count": 105,
     "metadata": {},
     "output_type": "execute_result"
    }
   ],
   "source": [
    "# div 하위 id가 'footer'인 것만 가져오기\n",
    "\n",
    "footer = dom.find('div', {'id' : 'footer'}) ; footer"
   ]
  },
  {
   "cell_type": "code",
   "execution_count": 106,
   "metadata": {},
   "outputs": [
    {
     "data": {
      "text/plain": [
       "('div', {'id': 'wrap'})"
      ]
     },
     "execution_count": 106,
     "metadata": {},
     "output_type": "execute_result"
    }
   ],
   "source": [
    "# div 상위 parent 확인 - \"wrap\"\n",
    "# 그 id 및 속성 가져오기\n",
    "\n",
    "parent = footer.find_parent()\n",
    "parent.name, parent.attrs"
   ]
  },
  {
   "cell_type": "code",
   "execution_count": 108,
   "metadata": {},
   "outputs": [
    {
     "name": "stdout",
     "output_type": "stream",
     "text": [
      "div {'class': ['container']}\n",
      "div {'id': 'footer'}\n"
     ]
    }
   ],
   "source": [
    "# \"wrap\" 하위 div 2개 출력\n",
    "\n",
    "children = parent.find_all(recursive = False)  # 재귀 호출 금지\n",
    "for row in children:\n",
    "    print(row.name, row.attrs)"
   ]
  },
  {
   "cell_type": "markdown",
   "metadata": {},
   "source": [
    "      body\n",
    "  \n",
    "skip link /  wrap \n",
    "\n",
    "       container / footer"
   ]
  },
  {
   "cell_type": "markdown",
   "metadata": {},
   "source": [
    "## find() 실습 2"
   ]
  },
  {
   "cell_type": "code",
   "execution_count": 114,
   "metadata": {},
   "outputs": [],
   "source": [
    "url = 'http://pythonscraping.com/pages/page3.html'\n",
    "html = getdownload(url)"
   ]
  },
  {
   "cell_type": "code",
   "execution_count": 115,
   "metadata": {},
   "outputs": [],
   "source": [
    "dom = BeautifulSoup(html.text, 'lxml')"
   ]
  },
  {
   "cell_type": "code",
   "execution_count": 120,
   "metadata": {},
   "outputs": [
    {
     "name": "stdout",
     "output_type": "stream",
     "text": [
      "Cost\n",
      "$15.00\n",
      "$10,000.52\n",
      "$10,005.00\n",
      "$0.50\n",
      "$1.50\n"
     ]
    }
   ],
   "source": [
    "# tr을 전부 찾아 해당 row의 3번째 줄 전부 출력\n",
    "\n",
    "aList = dom.find_all('tr')\n",
    "for row in aList:\n",
    "    print(row.find_all(recursive = False)[ 2 ].text.strip() )"
   ]
  },
  {
   "cell_type": "markdown",
   "metadata": {},
   "source": [
    "# - select()\n",
    "### css 태그 중심으로 검색"
   ]
  },
  {
   "cell_type": "code",
   "execution_count": 122,
   "metadata": {},
   "outputs": [],
   "source": [
    "html = '''\n",
    "<IDOCTYPE html>\n",
    "<html>\n",
    "    <head>\n",
    "        <meta charset='utf-8'>\n",
    "        <title>BeautifulSoup Training</title>\n",
    "    </head>\n",
    "    <body>\n",
    "        <div id = 'result'>\n",
    "            <p class = 'row'>\n",
    "                <a class = \"red\">Go to page 1</a>,\n",
    "                <a class = \"blue\">Go to page 2</a>,\n",
    "                <a class = \"green\">Go to page 3</a>,\n",
    "                <a class = \"yellow\">Go to page 4</a>, \n",
    "                <a class = \"red\">Go to page 5</a>,\n",
    "                <b id = \"gray\">Go to pase 6</b>,\n",
    "                <c id = \"red\">Go to pase 7</c>\n",
    "            </p>\n",
    "        </div>\n",
    "     </body>           \n",
    "</html>  \n",
    "'''"
   ]
  },
  {
   "cell_type": "code",
   "execution_count": 123,
   "metadata": {},
   "outputs": [
    {
     "data": {
      "text/plain": [
       "<html><body><idoctype html=\"\">\n",
       "<meta charset=\"utf-8\"/>\n",
       "<title>BeautifulSoup Training</title>\n",
       "<div id=\"result\">\n",
       "<p class=\"row\">\n",
       "<a class=\"red\">Go to page 1</a>,\n",
       "                <a class=\"blue\">Go to page 2</a>,\n",
       "                <a class=\"green\">Go to page 3</a>,\n",
       "                <a class=\"yellow\">Go to page 4</a>, \n",
       "                <a class=\"red\">Go to page 5</a>,\n",
       "                <b id=\"gray\">Go to pase 6</b>,\n",
       "                <c id=\"red\">Go to pase 7</c>\n",
       "</p>\n",
       "</div>\n",
       "</idoctype></body></html>"
      ]
     },
     "execution_count": 123,
     "metadata": {},
     "output_type": "execute_result"
    }
   ],
   "source": [
    "dom = BeautifulSoup(html, 'lxml') ; dom"
   ]
  },
  {
   "cell_type": "code",
   "execution_count": 124,
   "metadata": {},
   "outputs": [
    {
     "data": {
      "text/plain": [
       "<a class=\"red\">Go to page 1</a>"
      ]
     },
     "execution_count": 124,
     "metadata": {},
     "output_type": "execute_result"
    }
   ],
   "source": [
    "# 해당하는 태그의 첫번째\n",
    "\n",
    "dom.select_one('a')"
   ]
  },
  {
   "cell_type": "code",
   "execution_count": 125,
   "metadata": {},
   "outputs": [
    {
     "data": {
      "text/plain": [
       "[<a class=\"red\">Go to page 1</a>,\n",
       " <a class=\"blue\">Go to page 2</a>,\n",
       " <a class=\"green\">Go to page 3</a>,\n",
       " <a class=\"yellow\">Go to page 4</a>,\n",
       " <a class=\"red\">Go to page 5</a>]"
      ]
     },
     "execution_count": 125,
     "metadata": {},
     "output_type": "execute_result"
    }
   ],
   "source": [
    "# 해당하는 태그 전부\n",
    "\n",
    "dom.select('a')"
   ]
  },
  {
   "cell_type": "code",
   "execution_count": 127,
   "metadata": {},
   "outputs": [
    {
     "data": {
      "text/plain": [
       "<b id=\"gray\">Go to pase 6</b>"
      ]
     },
     "execution_count": 127,
     "metadata": {},
     "output_type": "execute_result"
    }
   ],
   "source": [
    "# '#' : id\n",
    "# '.' : class\n",
    "\n",
    "dom.select_one('#gray')"
   ]
  },
  {
   "cell_type": "markdown",
   "metadata": {},
   "source": [
    "## select() 실습"
   ]
  },
  {
   "cell_type": "code",
   "execution_count": 146,
   "metadata": {},
   "outputs": [],
   "source": [
    "url = \"https://media.daum.net/issue/5008621\"\n",
    "html = requests.get(url)\n",
    "html_text = html.text\n",
    "\n",
    "dom = BeautifulSoup(html.text, 'lxml')"
   ]
  },
  {
   "cell_type": "code",
   "execution_count": 157,
   "metadata": {},
   "outputs": [
    {
     "data": {
      "text/plain": [
       "[<a class=\"link_txt\" href=\"http://v.media.daum.net/v/20200222152848088\">청도대남병원 사망자 2명, 직접 사인은 코로나19</a>,\n",
       " <a class=\"link_txt\" href=\"http://v.media.daum.net/v/20200222151525916\">코로나19 확진 청주여성 지역 식당·마트 들러..증평 긴장 고...</a>,\n",
       " <a class=\"link_txt\" href=\"http://v.media.daum.net/v/20200222151354890\">이스라엘 성지순례단 9명도 코로나19 확진..감염경로 오리무중</a>,\n",
       " <a class=\"link_txt\" href=\"http://v.media.daum.net/v/20200222150937820\">코로나19 덮친 대구 경제 직격탄..\"앞이 안 보인다\"</a>,\n",
       " <a class=\"link_txt\" href=\"http://v.media.daum.net/v/20200222150712789\">강원 동부전선 육군 코로나19 비상..장병 1명 등 확진</a>,\n",
       " <a class=\"link_txt\" href=\"http://v.media.daum.net/v/20200222145630627\">은평성모병원 확진자 1명 추가..접촉자 자가격리</a>,\n",
       " <a class=\"link_txt\" href=\"http://v.media.daum.net/v/20200222145054518\">통합당 \"문대통령, 어느 나라 대통령?\"..'코로나19 대응'...</a>,\n",
       " <a class=\"link_txt\" href=\"http://v.media.daum.net/v/20200222144620424\">전주 방화범 코로나 증세로 일선경찰서 '긴장'..음성' 결과에...</a>,\n",
       " <a class=\"link_txt\" href=\"http://v.media.daum.net/v/20200222144400386\">강원 동부전선 육군 코로나19 비상..장병 1명 등 확진</a>,\n",
       " <a class=\"link_txt\" href=\"http://v.media.daum.net/v/20200222144324375\">당국 \"격리환자 2명 위중\"..다른 6명은 산소마스크 사용</a>]"
      ]
     },
     "execution_count": 157,
     "metadata": {},
     "output_type": "execute_result"
    }
   ],
   "source": [
    "dom.select('#mArticle > ul > li > div > strong.tit_thumb > a.link_txt')"
   ]
  },
  {
   "cell_type": "code",
   "execution_count": 166,
   "metadata": {},
   "outputs": [
    {
     "name": "stdout",
     "output_type": "stream",
     "text": [
      "청도대남병원 사망자 2명, 직접 사인은 코로나19\n",
      "코로나19 확진 청주여성 지역 식당·마트 들러..증평 긴장 고...\n",
      "이스라엘 성지순례단 9명도 코로나19 확진..감염경로 오리무중\n",
      "코로나19 덮친 대구 경제 직격탄..\"앞이 안 보인다\"\n",
      "강원 동부전선 육군 코로나19 비상..장병 1명 등 확진\n",
      "은평성모병원 확진자 1명 추가..접촉자 자가격리\n",
      "통합당 \"문대통령, 어느 나라 대통령?\"..'코로나19 대응'...\n",
      "전주 방화범 코로나 증세로 일선경찰서 '긴장'..음성' 결과에...\n",
      "강원 동부전선 육군 코로나19 비상..장병 1명 등 확진\n",
      "당국 \"격리환자 2명 위중\"..다른 6명은 산소마스크 사용\n"
     ]
    }
   ],
   "source": [
    "# 방법 1: get_text() 이용\n",
    "\n",
    "news_list = dom.select(\n",
    "    '#mArticle > ul > li > div > strong.tit_thumb > a.link_txt')\n",
    "\n",
    "for rows in news_list:\n",
    "    print(rows.get_text())"
   ]
  },
  {
   "cell_type": "code",
   "execution_count": 175,
   "metadata": {},
   "outputs": [
    {
     "name": "stdout",
     "output_type": "stream",
     "text": [
      "청도대남병원 사망자 2명, 직접 사인은 코로나19\n",
      "코로나19 확진 청주여성 지역 식당·마트 들러..증평 긴장 고...\n",
      "이스라엘 성지순례단 9명도 코로나19 확진..감염경로 오리무중\n",
      "코로나19 덮친 대구 경제 직격탄..\"앞이 안 보인다\"\n",
      "강원 동부전선 육군 코로나19 비상..장병 1명 등 확진\n",
      "은평성모병원 확진자 1명 추가..접촉자 자가격리\n",
      "통합당 \"문대통령, 어느 나라 대통령?\"..'코로나19 대응'...\n",
      "전주 방화범 코로나 증세로 일선경찰서 '긴장'..음성' 결과에...\n",
      "강원 동부전선 육군 코로나19 비상..장병 1명 등 확진\n",
      "당국 \"격리환자 2명 위중\"..다른 6명은 산소마스크 사용\n"
     ]
    }
   ],
   "source": [
    "# 방법 2: index 이용해서 text() 이용\n",
    "\n",
    "news_list = dom.select(\n",
    "    '#mArticle > ul > li > div > strong.tit_thumb > a.link_txt')\n",
    "\n",
    "for index in range(0, len(news_list)):\n",
    "    print(news_list[index].text)"
   ]
  },
  {
   "cell_type": "code",
   "execution_count": 176,
   "metadata": {},
   "outputs": [
    {
     "name": "stdout",
     "output_type": "stream",
     "text": [
      "청도대남병원 사망자 2명, 직접 사인은 코로나19\n",
      "코로나19 확진 청주여성 지역 식당·마트 들러..증평 긴장 고...\n",
      "이스라엘 성지순례단 9명도 코로나19 확진..감염경로 오리무중\n",
      "코로나19 덮친 대구 경제 직격탄..\"앞이 안 보인다\"\n",
      "강원 동부전선 육군 코로나19 비상..장병 1명 등 확진\n",
      "은평성모병원 확진자 1명 추가..접촉자 자가격리\n",
      "통합당 \"문대통령, 어느 나라 대통령?\"..'코로나19 대응'...\n",
      "전주 방화범 코로나 증세로 일선경찰서 '긴장'..음성' 결과에...\n",
      "강원 동부전선 육군 코로나19 비상..장병 1명 등 확진\n",
      "당국 \"격리환자 2명 위중\"..다른 6명은 산소마스크 사용\n"
     ]
    }
   ],
   "source": [
    "# 리스트에 담기\n",
    "\n",
    "news_lists= []\n",
    "\n",
    "for index in range(0, len(news_list)):\n",
    "    news_lists.append(news_list[index].text)\n",
    "    print(news_list[index].text)"
   ]
  },
  {
   "cell_type": "code",
   "execution_count": 186,
   "metadata": {},
   "outputs": [],
   "source": [
    "# 파일로 저장\n",
    "\n",
    "with open('/home/ai19/news_lists.txt', 'w') as f:\n",
    "    for text in news_lists:\n",
    "        f.write(text + '\\n')"
   ]
  },
  {
   "cell_type": "markdown",
   "metadata": {},
   "source": [
    "https://code.visualstudio.com/\n",
    "\n",
    "- deb 다운로드\n",
    "- 텍스트 편집 손쉽게"
   ]
  },
  {
   "cell_type": "markdown",
   "metadata": {},
   "source": [
    "# 3. Selenium 패키지"
   ]
  },
  {
   "cell_type": "markdown",
   "metadata": {},
   "source": [
    "크롬 webdriver 설치\n",
    "\n",
    "https://sites.google.com/a/chromium.org/chromedriver/downloads\n",
    "\n",
    "- 사이트 접속\n",
    "- 크롬 정보 확인\n",
    "- 해당하는 버젼 다운로드"
   ]
  },
  {
   "cell_type": "markdown",
   "metadata": {},
   "source": [
    "- web driver API 이용해 별도의 웹 브라우저를 호출하지 않고, 호출하는 것처럼 사용\n",
    "- 내가 원하는 웹드라이버가 설치돼 있어야 함\n",
    "- 어디에 풀든 상관 없지만, 사용 시 위치 기억해야 함"
   ]
  },
  {
   "cell_type": "code",
   "execution_count": 188,
   "metadata": {},
   "outputs": [],
   "source": [
    "path = '/home/ai19/anaconda3/chromedriver'\n",
    "driver = webdriver.Chrome(path)"
   ]
  },
  {
   "cell_type": "code",
   "execution_count": 191,
   "metadata": {},
   "outputs": [],
   "source": [
    "url = 'http://example.webscraping.com/places/default/search'\n",
    "driver.get(url)"
   ]
  },
  {
   "cell_type": "code",
   "execution_count": 196,
   "metadata": {},
   "outputs": [],
   "source": [
    "# 시뮬레이션: korea 입력 및 클릭\n",
    "\n",
    "driver.find_element_by_id('search_term').clear()\n",
    "driver.find_element_by_id('search_term').send_keys('korea')\n",
    "driver.find_element_by_id('search').click()"
   ]
  },
  {
   "cell_type": "code",
   "execution_count": 198,
   "metadata": {},
   "outputs": [
    {
     "name": "stdout",
     "output_type": "stream",
     "text": [
      "North Korea\n",
      "http://example.webscraping.com/places/default/view/North-Korea-165\n",
      "South Korea\n",
      "http://example.webscraping.com/places/default/view/South-Korea-211\n"
     ]
    }
   ],
   "source": [
    "# 결과 print\n",
    "\n",
    "results = driver.find_element_by_id('results')\n",
    "for tag in results.find_elements_by_tag_name('a'):\n",
    "    print(tag.text)\n",
    "    print(tag.get_attribute('href'))"
   ]
  },
  {
   "cell_type": "code",
   "execution_count": 202,
   "metadata": {},
   "outputs": [],
   "source": [
    "# 구글에 검색\n",
    "\n",
    "driver.get('http://ww.google.co.kr')\n",
    "search = driver.find_element_by_name('q')\n",
    "search.send_keys('코로나')\n",
    "search.submit()"
   ]
  },
  {
   "cell_type": "code",
   "execution_count": 205,
   "metadata": {},
   "outputs": [],
   "source": [
    "user = \"facebook id\"\n",
    "pwd = \"pwd\"\n",
    "\n",
    "driver.get('http://www.facebook.com')\n",
    "\n",
    "element = driver.find_element_by_id('email')\n",
    "element.send_keys(user)\n",
    "element = driver.find_element_by_id('pass')\n",
    "element.send_keys(pwd)\n",
    "element.send_keys(keys.RETURN)"
   ]
  }
 ],
 "metadata": {
  "kernelspec": {
   "display_name": "Python 3",
   "language": "python",
   "name": "python3"
  },
  "language_info": {
   "codemirror_mode": {
    "name": "ipython",
    "version": 3
   },
   "file_extension": ".py",
   "mimetype": "text/x-python",
   "name": "python",
   "nbconvert_exporter": "python",
   "pygments_lexer": "ipython3",
   "version": "3.7.3"
  }
 },
 "nbformat": 4,
 "nbformat_minor": 4
}
