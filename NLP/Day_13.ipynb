{
 "cells": [
  {
   "cell_type": "markdown",
   "metadata": {},
   "source": [
    "### < Topic >\n",
    "\n",
    "1. review\n",
    "\n",
    "\n",
    "2. topic\n",
    "\n",
    "    2.1 피드 포워드 신경망 언어 모델 (Neural Network Language Model, NNLM)\n",
    "\n",
    "    2.2 순환 신경망 언어 모델 (Recurrent Neural Network Language Model, RNNLM)\n",
    "    \n",
    "    2.3 RNN 이용 텍스트 생성\n",
    "    \n",
    "    2.4 글자 단위 RNN (Char RNN)"
   ]
  },
  {
   "cell_type": "markdown",
   "metadata": {},
   "source": [
    "## - 피드 포워드 신경망 언어 모델(Neural Network Language Model, NNLM)"
   ]
  },
  {
   "cell_type": "markdown",
   "metadata": {},
   "source": [
    "- '언어 모델'은 문장에 확률을 할당하는 모델\n",
    "- 주어진 문맥으로부터 아직 모르는 단어를 예측하는 것을 '언어 모델링'\n",
    "- 이전 단어를 이용해서 다음 단어를 예측하는 언어 모델링 방법\n",
    "- 통계적 언어 모델(Statistical Language Model, SLM): n-gram 언어 모델\n",
    "- 신경망 언어 모델(Neural Network Language Mdel, NNLM): NNLM, RNN 언어 모델 "
   ]
  },
  {
   "cell_type": "markdown",
   "metadata": {},
   "source": [
    "### n-gram 언어 모델"
   ]
  },
  {
   "cell_type": "markdown",
   "metadata": {},
   "source": [
    "An adorable little boy is spreading [ 예측 단어 ]\n",
    "\n",
    "- 4-gram 언어 모델\n",
    "\n",
    "( An adorable little ) -> 무시\n",
    "\n",
    "[ boy is spreading ] -> n-1개의 단어\n",
    "\n",
    "P( [w] | boy is spreading ) = count( boy is spreading [w] ) / count( boy is spreading )\n",
    "\n",
    "corpus -> boy is spreading : 1000번 출현 boy is spreading insults : 500번 출현 boy is spreading smiles : 200번 출현\n",
    "\n",
    "P( [ insults ] | boy is spreading ) : 0.500  P( [ smiles ] | boy is spreading ) : 0.200\n",
    "\n",
    "n-gram 단점 : 희소 문제( sparsity problem ) -> 언어 모델에서 학습하지 않는 단어에 대해서는 확률이 0이기 때문에 예측하지 못하는 문제가 있다."
   ]
  },
  {
   "cell_type": "markdown",
   "metadata": {},
   "source": [
    "- 희소 문제는 '단어의 유사도'를 알 수 있다면 해결할 수 있다.\n",
    "- 언어 모델이 단어의 유사도를 학습할 수 있도록 설계한다면, corpus에 없는 단어 시퀀스에 대한 예측이라도 유사한 단어가 사용된 단어 시퀀스를 참고하여 보다 정확한 예측을 할 수 있을 것이다. -> NNLM"
   ]
  },
  {
   "cell_type": "markdown",
   "metadata": {},
   "source": [
    "### 피드 포워드 신경망 언어 모델(NNLM) "
   ]
  },
  {
   "cell_type": "markdown",
   "metadata": {},
   "source": [
    "- NNLM도 n-gram LM과 유사하게 다음 단어를 예측할 때, 앞의 모든 단어를 참고하는 것이 아니라 정해진 n 개의 단어만을 참고\n",
    "- (예측을 할 때 정해지는 n개의 범위: window)\n",
    "- 충분한 양의 훈련 corpus를 NNLM 모델을 통해 학습한다면, 수많은 문장에서 유사한 목적으로 사용되는 단어들은 결국 유사한 임베딩 벡터값을 얻게 된다."
   ]
  },
  {
   "cell_type": "markdown",
   "metadata": {},
   "source": [
    "### RNN 언어 모델 (Recurrent Neural Network Language Model, RNNLM)"
   ]
  },
  {
   "cell_type": "markdown",
   "metadata": {},
   "source": [
    "- n-gram 언어 모델이나 NNLM은 고정된 개수의 단어만을 입력으로 받아야 하는 단점\n",
    "- 시점 (time step)이라는 개념이 도입된 RNN으로 언어 모델을 만들면 입력의 길이를 고정하지 않을 수 있다."
   ]
  },
  {
   "cell_type": "markdown",
   "metadata": {},
   "source": [
    "<img src = \"https://wikidocs.net/images/page/46496/rnnlm1_final_final.PNG\">"
   ]
  },
  {
   "cell_type": "markdown",
   "metadata": {},
   "source": [
    "이전 시점의 출력 = 현재 시점의 입력\n",
    "\n",
    "RNNLM의 학습: '교사 강요(teacher forcing)' 방법 - 테스트 과정에서 t 시점의 출력이 t+1 시점의 입력으로 사용되는 RNN 모델 훈련 기법\n",
    "- t 시점에서 예측한 값을 t+1 시점에서 입력으로 사용하지 않고, t 시점의 레이블. 즉, 실제 알고있는 정답을 t+1 시점의 입력으로 사용\n",
    "- 한 번 잘못 예측하면 뒤에서의 예측까지 영향을 미쳐 훈련 시간이 느려지게 되므로 교사 강요를 사용하여 RNN을 좀 더 빠르고 효과적으로 훈련"
   ]
  },
  {
   "cell_type": "markdown",
   "metadata": {},
   "source": [
    "### RNN을 이용한 텍스트 생성"
   ]
  },
  {
   "cell_type": "markdown",
   "metadata": {},
   "source": [
    "- 다대일(many-to-one) 구조와 RNN을 사용하여 문맥을 반영해서 텍스트를 생성하는 모델"
   ]
  },
  {
   "cell_type": "markdown",
   "metadata": {},
   "source": [
    "문장: '경마장에 있는 말이 뛰고 있다', '그의 말이 법이다', '가는 말이 고와야 오는 말이 곱다'"
   ]
  },
  {
   "cell_type": "markdown",
   "metadata": {},
   "source": [
    "|samples|x|y|\n",
    "|------|--|--|\n",
    "|1|경마장에|있는|\n",
    "|2|경마장에 있는|말이|\n",
    "|3|경마장에 있는 말이|뛰고|\n",
    "|4|경마장에 있는 말이 뛰고|있다|\n",
    "|5|그의|말이\n",
    "|6|그의 말이|법이다\n",
    "|7|가는|말이\n",
    "|8|가는 말이|고와야\n",
    "|9|\t가는 말이 고와야|오는\n",
    "|10|가는 말이 고와야 오는|말이\n",
    "|11|가는 말이 고와야 오는 말이|곱다"
   ]
  },
  {
   "cell_type": "markdown",
   "metadata": {},
   "source": [
    "#### 1) 데이터 전처리"
   ]
  },
  {
   "cell_type": "code",
   "execution_count": 4,
   "metadata": {},
   "outputs": [],
   "source": [
    "import numpy as np\n",
    "\n",
    "from tensorflow.keras.preprocessing.text import Tokenizer\n",
    "from tensorflow.keras.preprocessing.sequence import pad_sequences\n",
    "from tensorflow.keras.utils import to_categorical"
   ]
  },
  {
   "cell_type": "code",
   "execution_count": 12,
   "metadata": {},
   "outputs": [],
   "source": [
    "text = \"\"\"경마장에 있는 말이 뛰고 있다\\n그의 말이 법이다\\n가는 말이 고아야 오는 말이 곱다\\n\"\"\""
   ]
  },
  {
   "cell_type": "code",
   "execution_count": 13,
   "metadata": {},
   "outputs": [
    {
     "data": {
      "text/plain": [
       "'경마장에 있는 말이 뛰고 있다\\n그의 말이 법이다\\n가는 말이 고아야 오는 말이 곱다\\n'"
      ]
     },
     "execution_count": 13,
     "metadata": {},
     "output_type": "execute_result"
    }
   ],
   "source": [
    "text"
   ]
  },
  {
   "cell_type": "code",
   "execution_count": 17,
   "metadata": {},
   "outputs": [
    {
     "name": "stdout",
     "output_type": "stream",
     "text": [
      "단어 집합의 크기 : 12\n"
     ]
    }
   ],
   "source": [
    "t = Tokenizer()\n",
    "t.fit_on_texts([text])\n",
    "vocab_size = len(t.word_index) + 1  # keras 원-핫 인코딩에서 인덱스가 0부터 시작\n",
    "\n",
    "print('단어 집합의 크기 : {}'.format(vocab_size))"
   ]
  },
  {
   "cell_type": "code",
   "execution_count": 20,
   "metadata": {},
   "outputs": [
    {
     "name": "stdout",
     "output_type": "stream",
     "text": [
      "{'말이': 1, '경마장에': 2, '있는': 3, '뛰고': 4, '있다': 5, '그의': 6, '법이다': 7, '가는': 8, '고아야': 9, '오는': 10, '곱다': 11}\n"
     ]
    }
   ],
   "source": [
    "# 정수 인코딩 결과\n",
    "\n",
    "print(t.word_index)"
   ]
  },
  {
   "cell_type": "code",
   "execution_count": 21,
   "metadata": {},
   "outputs": [
    {
     "name": "stdout",
     "output_type": "stream",
     "text": [
      "학습에 사용할 샘플의 개수: 11\n"
     ]
    }
   ],
   "source": [
    "# 훈련 데이터 생성\n",
    "\n",
    "sequences = list()\n",
    "for line in text.split('\\n'):  # \\n을 기준으로 문장 토큰화\n",
    "    encoded = t.texts_to_sequences([line])[0]\n",
    "    for i in range(1, len(encoded)):\n",
    "        sequence = encoded[:i+1]\n",
    "        sequences.append(sequence)\n",
    "\n",
    "print('학습에 사용할 샘플의 개수: {:d}'.format(len(sequences)))"
   ]
  },
  {
   "cell_type": "code",
   "execution_count": 22,
   "metadata": {},
   "outputs": [
    {
     "name": "stdout",
     "output_type": "stream",
     "text": [
      "[[2, 3], [2, 3, 1], [2, 3, 1, 4], [2, 3, 1, 4, 5], [6, 1], [6, 1, 7], [8, 1], [8, 1, 9], [8, 1, 9, 10], [8, 1, 9, 10, 1], [8, 1, 9, 10, 1, 11]]\n"
     ]
    }
   ],
   "source": [
    "# 레이블로 사용될 단어는 분리하지 않은 훈련 데이터\n",
    "\n",
    "print(sequences)"
   ]
  },
  {
   "cell_type": "code",
   "execution_count": 24,
   "metadata": {},
   "outputs": [
    {
     "name": "stdout",
     "output_type": "stream",
     "text": [
      "샘플의 최대 길이 : 6\n"
     ]
    }
   ],
   "source": [
    "# 가장 긴 샘플 길이를 기준으로 전체 샘플 길이 일치시켜야 함\n",
    "# 가장 긴 샘플 길이 확인\n",
    "\n",
    "max_len = max(len(l) for l in sequences)\n",
    "\n",
    "print('샘플의 최대 길이 : {}'.format(max_len))"
   ]
  },
  {
   "cell_type": "code",
   "execution_count": 25,
   "metadata": {},
   "outputs": [],
   "source": [
    "# 앞쪽에 패딩을 넣음 (길이 짧은 벡터는 0으로 채워짐)\n",
    "\n",
    "sequences = pad_sequences(sequences, maxlen = max_len, padding = 'pre')"
   ]
  },
  {
   "cell_type": "code",
   "execution_count": 26,
   "metadata": {},
   "outputs": [
    {
     "name": "stdout",
     "output_type": "stream",
     "text": [
      "[[ 0  0  0  0  2  3]\n",
      " [ 0  0  0  2  3  1]\n",
      " [ 0  0  2  3  1  4]\n",
      " [ 0  2  3  1  4  5]\n",
      " [ 0  0  0  0  6  1]\n",
      " [ 0  0  0  6  1  7]\n",
      " [ 0  0  0  0  8  1]\n",
      " [ 0  0  0  8  1  9]\n",
      " [ 0  0  8  1  9 10]\n",
      " [ 0  8  1  9 10  1]\n",
      " [ 8  1  9 10  1 11]]\n"
     ]
    }
   ],
   "source": [
    "print(sequences)"
   ]
  },
  {
   "cell_type": "code",
   "execution_count": 27,
   "metadata": {},
   "outputs": [],
   "source": [
    "# x, y 분리\n",
    "\n",
    "sequences = np.array(sequences)\n",
    "x = sequences[:,:-1] # 마지막 값을 제외\n",
    "y = sequences[:,-1]  # 마지막 값만 저장"
   ]
  },
  {
   "cell_type": "code",
   "execution_count": 28,
   "metadata": {},
   "outputs": [
    {
     "name": "stdout",
     "output_type": "stream",
     "text": [
      "[[ 0  0  0  0  2]\n",
      " [ 0  0  0  2  3]\n",
      " [ 0  0  2  3  1]\n",
      " [ 0  2  3  1  4]\n",
      " [ 0  0  0  0  6]\n",
      " [ 0  0  0  6  1]\n",
      " [ 0  0  0  0  8]\n",
      " [ 0  0  0  8  1]\n",
      " [ 0  0  8  1  9]\n",
      " [ 0  8  1  9 10]\n",
      " [ 8  1  9 10  1]]\n"
     ]
    }
   ],
   "source": [
    "print(x)"
   ]
  },
  {
   "cell_type": "code",
   "execution_count": 29,
   "metadata": {},
   "outputs": [
    {
     "name": "stdout",
     "output_type": "stream",
     "text": [
      "[ 3  1  4  5  1  7  1  9 10  1 11]\n"
     ]
    }
   ],
   "source": [
    "print(y)"
   ]
  },
  {
   "cell_type": "code",
   "execution_count": 30,
   "metadata": {},
   "outputs": [],
   "source": [
    "# 레이블을 원핫 인코딩\n",
    "\n",
    "y = to_categorical(y, num_classes = vocab_size)"
   ]
  },
  {
   "cell_type": "code",
   "execution_count": 31,
   "metadata": {},
   "outputs": [
    {
     "name": "stdout",
     "output_type": "stream",
     "text": [
      "[[0. 0. 0. 1. 0. 0. 0. 0. 0. 0. 0. 0.]\n",
      " [0. 1. 0. 0. 0. 0. 0. 0. 0. 0. 0. 0.]\n",
      " [0. 0. 0. 0. 1. 0. 0. 0. 0. 0. 0. 0.]\n",
      " [0. 0. 0. 0. 0. 1. 0. 0. 0. 0. 0. 0.]\n",
      " [0. 1. 0. 0. 0. 0. 0. 0. 0. 0. 0. 0.]\n",
      " [0. 0. 0. 0. 0. 0. 0. 1. 0. 0. 0. 0.]\n",
      " [0. 1. 0. 0. 0. 0. 0. 0. 0. 0. 0. 0.]\n",
      " [0. 0. 0. 0. 0. 0. 0. 0. 0. 1. 0. 0.]\n",
      " [0. 0. 0. 0. 0. 0. 0. 0. 0. 0. 1. 0.]\n",
      " [0. 1. 0. 0. 0. 0. 0. 0. 0. 0. 0. 0.]\n",
      " [0. 0. 0. 0. 0. 0. 0. 0. 0. 0. 0. 1.]]\n"
     ]
    }
   ],
   "source": [
    "print(y)"
   ]
  },
  {
   "cell_type": "markdown",
   "metadata": {},
   "source": [
    "#### 2) RNN 모델"
   ]
  },
  {
   "cell_type": "code",
   "execution_count": 44,
   "metadata": {},
   "outputs": [],
   "source": [
    "from tensorflow.keras.models import Sequential\n",
    "from tensorflow.keras.layers import Embedding, Dense, SimpleRNN"
   ]
  },
  {
   "cell_type": "code",
   "execution_count": 45,
   "metadata": {},
   "outputs": [
    {
     "name": "stdout",
     "output_type": "stream",
     "text": [
      "Train on 11 samples\n",
      "Epoch 1/200\n",
      "11/11 - 1s - loss: 2.4720 - accuracy: 0.0909\n",
      "Epoch 2/200\n",
      "11/11 - 0s - loss: 2.4576 - accuracy: 0.1818\n",
      "Epoch 3/200\n",
      "11/11 - 0s - loss: 2.4432 - accuracy: 0.3636\n",
      "Epoch 4/200\n",
      "11/11 - 0s - loss: 2.4287 - accuracy: 0.3636\n",
      "Epoch 5/200\n",
      "11/11 - 0s - loss: 2.4141 - accuracy: 0.3636\n",
      "Epoch 6/200\n",
      "11/11 - 0s - loss: 2.3993 - accuracy: 0.5455\n",
      "Epoch 7/200\n",
      "11/11 - 0s - loss: 2.3842 - accuracy: 0.5455\n",
      "Epoch 8/200\n",
      "11/11 - 0s - loss: 2.3686 - accuracy: 0.5455\n",
      "Epoch 9/200\n",
      "11/11 - 0s - loss: 2.3525 - accuracy: 0.5455\n",
      "Epoch 10/200\n",
      "11/11 - 0s - loss: 2.3359 - accuracy: 0.4545\n",
      "Epoch 11/200\n",
      "11/11 - 0s - loss: 2.3186 - accuracy: 0.4545\n",
      "Epoch 12/200\n",
      "11/11 - 0s - loss: 2.3005 - accuracy: 0.4545\n",
      "Epoch 13/200\n",
      "11/11 - 0s - loss: 2.2817 - accuracy: 0.4545\n",
      "Epoch 14/200\n",
      "11/11 - 0s - loss: 2.2620 - accuracy: 0.3636\n",
      "Epoch 15/200\n",
      "11/11 - 0s - loss: 2.2413 - accuracy: 0.3636\n",
      "Epoch 16/200\n",
      "11/11 - 0s - loss: 2.2198 - accuracy: 0.3636\n",
      "Epoch 17/200\n",
      "11/11 - 0s - loss: 2.1973 - accuracy: 0.3636\n",
      "Epoch 18/200\n",
      "11/11 - 0s - loss: 2.1739 - accuracy: 0.3636\n",
      "Epoch 19/200\n",
      "11/11 - 0s - loss: 2.1496 - accuracy: 0.3636\n",
      "Epoch 20/200\n",
      "11/11 - 0s - loss: 2.1244 - accuracy: 0.3636\n",
      "Epoch 21/200\n",
      "11/11 - 0s - loss: 2.0984 - accuracy: 0.3636\n",
      "Epoch 22/200\n",
      "11/11 - 0s - loss: 2.0718 - accuracy: 0.3636\n",
      "Epoch 23/200\n",
      "11/11 - 0s - loss: 2.0447 - accuracy: 0.3636\n",
      "Epoch 24/200\n",
      "11/11 - 0s - loss: 2.0172 - accuracy: 0.3636\n",
      "Epoch 25/200\n",
      "11/11 - 0s - loss: 1.9896 - accuracy: 0.3636\n",
      "Epoch 26/200\n",
      "11/11 - 0s - loss: 1.9621 - accuracy: 0.3636\n",
      "Epoch 27/200\n",
      "11/11 - 0s - loss: 1.9350 - accuracy: 0.3636\n",
      "Epoch 28/200\n",
      "11/11 - 0s - loss: 1.9085 - accuracy: 0.3636\n",
      "Epoch 29/200\n",
      "11/11 - 0s - loss: 1.8830 - accuracy: 0.3636\n",
      "Epoch 30/200\n",
      "11/11 - 0s - loss: 1.8586 - accuracy: 0.3636\n",
      "Epoch 31/200\n",
      "11/11 - 0s - loss: 1.8356 - accuracy: 0.3636\n",
      "Epoch 32/200\n",
      "11/11 - 0s - loss: 1.8140 - accuracy: 0.3636\n",
      "Epoch 33/200\n",
      "11/11 - 0s - loss: 1.7938 - accuracy: 0.3636\n",
      "Epoch 34/200\n",
      "11/11 - 0s - loss: 1.7750 - accuracy: 0.3636\n",
      "Epoch 35/200\n",
      "11/11 - 0s - loss: 1.7575 - accuracy: 0.3636\n",
      "Epoch 36/200\n",
      "11/11 - 0s - loss: 1.7409 - accuracy: 0.3636\n",
      "Epoch 37/200\n",
      "11/11 - 0s - loss: 1.7249 - accuracy: 0.3636\n",
      "Epoch 38/200\n",
      "11/11 - 0s - loss: 1.7093 - accuracy: 0.3636\n",
      "Epoch 39/200\n",
      "11/11 - 0s - loss: 1.6937 - accuracy: 0.4545\n",
      "Epoch 40/200\n",
      "11/11 - 0s - loss: 1.6780 - accuracy: 0.4545\n",
      "Epoch 41/200\n",
      "11/11 - 0s - loss: 1.6618 - accuracy: 0.4545\n",
      "Epoch 42/200\n",
      "11/11 - 0s - loss: 1.6451 - accuracy: 0.4545\n",
      "Epoch 43/200\n",
      "11/11 - 0s - loss: 1.6279 - accuracy: 0.4545\n",
      "Epoch 44/200\n",
      "11/11 - 0s - loss: 1.6102 - accuracy: 0.4545\n",
      "Epoch 45/200\n",
      "11/11 - 0s - loss: 1.5920 - accuracy: 0.4545\n",
      "Epoch 46/200\n",
      "11/11 - 0s - loss: 1.5735 - accuracy: 0.4545\n",
      "Epoch 47/200\n",
      "11/11 - 0s - loss: 1.5548 - accuracy: 0.4545\n",
      "Epoch 48/200\n",
      "11/11 - 0s - loss: 1.5359 - accuracy: 0.4545\n",
      "Epoch 49/200\n",
      "11/11 - 0s - loss: 1.5170 - accuracy: 0.4545\n",
      "Epoch 50/200\n",
      "11/11 - 0s - loss: 1.4980 - accuracy: 0.4545\n",
      "Epoch 51/200\n",
      "11/11 - 0s - loss: 1.4792 - accuracy: 0.4545\n",
      "Epoch 52/200\n",
      "11/11 - 0s - loss: 1.4603 - accuracy: 0.4545\n",
      "Epoch 53/200\n",
      "11/11 - 0s - loss: 1.4415 - accuracy: 0.4545\n",
      "Epoch 54/200\n",
      "11/11 - 0s - loss: 1.4228 - accuracy: 0.4545\n",
      "Epoch 55/200\n",
      "11/11 - 0s - loss: 1.4040 - accuracy: 0.4545\n",
      "Epoch 56/200\n",
      "11/11 - 0s - loss: 1.3852 - accuracy: 0.4545\n",
      "Epoch 57/200\n",
      "11/11 - 0s - loss: 1.3662 - accuracy: 0.4545\n",
      "Epoch 58/200\n",
      "11/11 - 0s - loss: 1.3472 - accuracy: 0.4545\n",
      "Epoch 59/200\n",
      "11/11 - 0s - loss: 1.3281 - accuracy: 0.4545\n",
      "Epoch 60/200\n",
      "11/11 - 0s - loss: 1.3089 - accuracy: 0.4545\n",
      "Epoch 61/200\n",
      "11/11 - 0s - loss: 1.2895 - accuracy: 0.4545\n",
      "Epoch 62/200\n",
      "11/11 - 0s - loss: 1.2702 - accuracy: 0.5455\n",
      "Epoch 63/200\n",
      "11/11 - 0s - loss: 1.2508 - accuracy: 0.6364\n",
      "Epoch 64/200\n",
      "11/11 - 0s - loss: 1.2315 - accuracy: 0.6364\n",
      "Epoch 65/200\n",
      "11/11 - 0s - loss: 1.2123 - accuracy: 0.6364\n",
      "Epoch 66/200\n",
      "11/11 - 0s - loss: 1.1933 - accuracy: 0.6364\n",
      "Epoch 67/200\n",
      "11/11 - 0s - loss: 1.1743 - accuracy: 0.6364\n",
      "Epoch 68/200\n",
      "11/11 - 0s - loss: 1.1556 - accuracy: 0.6364\n",
      "Epoch 69/200\n",
      "11/11 - 0s - loss: 1.1370 - accuracy: 0.6364\n",
      "Epoch 70/200\n",
      "11/11 - 0s - loss: 1.1187 - accuracy: 0.7273\n",
      "Epoch 71/200\n",
      "11/11 - 0s - loss: 1.1005 - accuracy: 0.7273\n",
      "Epoch 72/200\n",
      "11/11 - 0s - loss: 1.0825 - accuracy: 0.7273\n",
      "Epoch 73/200\n",
      "11/11 - 0s - loss: 1.0648 - accuracy: 0.7273\n",
      "Epoch 74/200\n",
      "11/11 - 0s - loss: 1.0472 - accuracy: 0.7273\n",
      "Epoch 75/200\n",
      "11/11 - 0s - loss: 1.0298 - accuracy: 0.7273\n",
      "Epoch 76/200\n",
      "11/11 - 0s - loss: 1.0126 - accuracy: 0.7273\n",
      "Epoch 77/200\n",
      "11/11 - 0s - loss: 0.9956 - accuracy: 0.7273\n",
      "Epoch 78/200\n",
      "11/11 - 0s - loss: 0.9788 - accuracy: 0.7273\n",
      "Epoch 79/200\n",
      "11/11 - 0s - loss: 0.9622 - accuracy: 0.8182\n",
      "Epoch 80/200\n",
      "11/11 - 0s - loss: 0.9459 - accuracy: 0.9091\n",
      "Epoch 81/200\n",
      "11/11 - 0s - loss: 0.9298 - accuracy: 0.9091\n",
      "Epoch 82/200\n",
      "11/11 - 0s - loss: 0.9139 - accuracy: 0.9091\n",
      "Epoch 83/200\n",
      "11/11 - 0s - loss: 0.8982 - accuracy: 0.9091\n",
      "Epoch 84/200\n",
      "11/11 - 0s - loss: 0.8828 - accuracy: 0.9091\n",
      "Epoch 85/200\n",
      "11/11 - 0s - loss: 0.8675 - accuracy: 0.9091\n",
      "Epoch 86/200\n",
      "11/11 - 0s - loss: 0.8525 - accuracy: 0.9091\n",
      "Epoch 87/200\n",
      "11/11 - 0s - loss: 0.8376 - accuracy: 0.9091\n",
      "Epoch 88/200\n",
      "11/11 - 0s - loss: 0.8230 - accuracy: 0.9091\n",
      "Epoch 89/200\n",
      "11/11 - 0s - loss: 0.8086 - accuracy: 0.9091\n",
      "Epoch 90/200\n",
      "11/11 - 0s - loss: 0.7944 - accuracy: 0.9091\n",
      "Epoch 91/200\n",
      "11/11 - 0s - loss: 0.7804 - accuracy: 0.9091\n",
      "Epoch 92/200\n",
      "11/11 - 0s - loss: 0.7666 - accuracy: 0.9091\n",
      "Epoch 93/200\n",
      "11/11 - 0s - loss: 0.7531 - accuracy: 0.9091\n",
      "Epoch 94/200\n",
      "11/11 - 0s - loss: 0.7399 - accuracy: 0.9091\n",
      "Epoch 95/200\n",
      "11/11 - 0s - loss: 0.7268 - accuracy: 0.9091\n",
      "Epoch 96/200\n",
      "11/11 - 0s - loss: 0.7140 - accuracy: 0.9091\n",
      "Epoch 97/200\n",
      "11/11 - 0s - loss: 0.7014 - accuracy: 0.9091\n",
      "Epoch 98/200\n",
      "11/11 - 0s - loss: 0.6890 - accuracy: 0.9091\n",
      "Epoch 99/200\n",
      "11/11 - 0s - loss: 0.6768 - accuracy: 0.9091\n",
      "Epoch 100/200\n",
      "11/11 - 0s - loss: 0.6649 - accuracy: 0.9091\n",
      "Epoch 101/200\n",
      "11/11 - 0s - loss: 0.6531 - accuracy: 0.9091\n",
      "Epoch 102/200\n",
      "11/11 - 0s - loss: 0.6416 - accuracy: 0.9091\n",
      "Epoch 103/200\n",
      "11/11 - 0s - loss: 0.6303 - accuracy: 0.9091\n",
      "Epoch 104/200\n",
      "11/11 - 0s - loss: 0.6191 - accuracy: 0.9091\n",
      "Epoch 105/200\n",
      "11/11 - 0s - loss: 0.6081 - accuracy: 0.9091\n",
      "Epoch 106/200\n",
      "11/11 - 0s - loss: 0.5973 - accuracy: 0.9091\n",
      "Epoch 107/200\n",
      "11/11 - 0s - loss: 0.5867 - accuracy: 0.9091\n",
      "Epoch 108/200\n",
      "11/11 - 0s - loss: 0.5763 - accuracy: 0.9091\n",
      "Epoch 109/200\n",
      "11/11 - 0s - loss: 0.5660 - accuracy: 0.9091\n",
      "Epoch 110/200\n",
      "11/11 - 0s - loss: 0.5558 - accuracy: 0.9091\n",
      "Epoch 111/200\n",
      "11/11 - 0s - loss: 0.5458 - accuracy: 0.9091\n",
      "Epoch 112/200\n",
      "11/11 - 0s - loss: 0.5359 - accuracy: 0.9091\n",
      "Epoch 113/200\n",
      "11/11 - 0s - loss: 0.5261 - accuracy: 0.9091\n",
      "Epoch 114/200\n",
      "11/11 - 0s - loss: 0.5165 - accuracy: 0.9091\n",
      "Epoch 115/200\n",
      "11/11 - 0s - loss: 0.5070 - accuracy: 0.9091\n",
      "Epoch 116/200\n",
      "11/11 - 0s - loss: 0.4976 - accuracy: 0.9091\n",
      "Epoch 117/200\n",
      "11/11 - 0s - loss: 0.4883 - accuracy: 0.9091\n",
      "Epoch 118/200\n",
      "11/11 - 0s - loss: 0.4791 - accuracy: 0.9091\n",
      "Epoch 119/200\n",
      "11/11 - 0s - loss: 0.4701 - accuracy: 1.0000\n",
      "Epoch 120/200\n",
      "11/11 - 0s - loss: 0.4611 - accuracy: 1.0000\n",
      "Epoch 121/200\n",
      "11/11 - 0s - loss: 0.4522 - accuracy: 1.0000\n",
      "Epoch 122/200\n",
      "11/11 - 0s - loss: 0.4435 - accuracy: 1.0000\n",
      "Epoch 123/200\n",
      "11/11 - 0s - loss: 0.4348 - accuracy: 1.0000\n",
      "Epoch 124/200\n",
      "11/11 - 0s - loss: 0.4262 - accuracy: 1.0000\n",
      "Epoch 125/200\n",
      "11/11 - 0s - loss: 0.4177 - accuracy: 1.0000\n",
      "Epoch 126/200\n",
      "11/11 - 0s - loss: 0.4094 - accuracy: 1.0000\n",
      "Epoch 127/200\n",
      "11/11 - 0s - loss: 0.4011 - accuracy: 1.0000\n",
      "Epoch 128/200\n",
      "11/11 - 0s - loss: 0.3929 - accuracy: 1.0000\n",
      "Epoch 129/200\n",
      "11/11 - 0s - loss: 0.3848 - accuracy: 1.0000\n",
      "Epoch 130/200\n",
      "11/11 - 0s - loss: 0.3768 - accuracy: 1.0000\n",
      "Epoch 131/200\n",
      "11/11 - 0s - loss: 0.3690 - accuracy: 1.0000\n",
      "Epoch 132/200\n",
      "11/11 - 0s - loss: 0.3612 - accuracy: 1.0000\n",
      "Epoch 133/200\n",
      "11/11 - 0s - loss: 0.3535 - accuracy: 1.0000\n",
      "Epoch 134/200\n",
      "11/11 - 0s - loss: 0.3460 - accuracy: 1.0000\n",
      "Epoch 135/200\n",
      "11/11 - 0s - loss: 0.3386 - accuracy: 1.0000\n",
      "Epoch 136/200\n",
      "11/11 - 0s - loss: 0.3312 - accuracy: 1.0000\n",
      "Epoch 137/200\n",
      "11/11 - 0s - loss: 0.3241 - accuracy: 1.0000\n",
      "Epoch 138/200\n",
      "11/11 - 0s - loss: 0.3170 - accuracy: 1.0000\n",
      "Epoch 139/200\n",
      "11/11 - 0s - loss: 0.3100 - accuracy: 1.0000\n",
      "Epoch 140/200\n",
      "11/11 - 0s - loss: 0.3032 - accuracy: 1.0000\n",
      "Epoch 141/200\n",
      "11/11 - 0s - loss: 0.2965 - accuracy: 1.0000\n"
     ]
    },
    {
     "name": "stdout",
     "output_type": "stream",
     "text": [
      "Epoch 142/200\n",
      "11/11 - 0s - loss: 0.2900 - accuracy: 1.0000\n",
      "Epoch 143/200\n",
      "11/11 - 0s - loss: 0.2836 - accuracy: 1.0000\n",
      "Epoch 144/200\n",
      "11/11 - 0s - loss: 0.2773 - accuracy: 1.0000\n",
      "Epoch 145/200\n",
      "11/11 - 0s - loss: 0.2711 - accuracy: 1.0000\n",
      "Epoch 146/200\n",
      "11/11 - 0s - loss: 0.2651 - accuracy: 1.0000\n",
      "Epoch 147/200\n",
      "11/11 - 0s - loss: 0.2592 - accuracy: 1.0000\n",
      "Epoch 148/200\n",
      "11/11 - 0s - loss: 0.2534 - accuracy: 1.0000\n",
      "Epoch 149/200\n",
      "11/11 - 0s - loss: 0.2478 - accuracy: 1.0000\n",
      "Epoch 150/200\n",
      "11/11 - 0s - loss: 0.2423 - accuracy: 1.0000\n",
      "Epoch 151/200\n",
      "11/11 - 0s - loss: 0.2369 - accuracy: 1.0000\n",
      "Epoch 152/200\n",
      "11/11 - 0s - loss: 0.2316 - accuracy: 1.0000\n",
      "Epoch 153/200\n",
      "11/11 - 0s - loss: 0.2265 - accuracy: 1.0000\n",
      "Epoch 154/200\n",
      "11/11 - 0s - loss: 0.2215 - accuracy: 1.0000\n",
      "Epoch 155/200\n",
      "11/11 - 0s - loss: 0.2166 - accuracy: 1.0000\n",
      "Epoch 156/200\n",
      "11/11 - 0s - loss: 0.2119 - accuracy: 1.0000\n",
      "Epoch 157/200\n",
      "11/11 - 0s - loss: 0.2072 - accuracy: 1.0000\n",
      "Epoch 158/200\n",
      "11/11 - 0s - loss: 0.2027 - accuracy: 1.0000\n",
      "Epoch 159/200\n",
      "11/11 - 0s - loss: 0.1982 - accuracy: 1.0000\n",
      "Epoch 160/200\n",
      "11/11 - 0s - loss: 0.1939 - accuracy: 1.0000\n",
      "Epoch 161/200\n",
      "11/11 - 0s - loss: 0.1897 - accuracy: 1.0000\n",
      "Epoch 162/200\n",
      "11/11 - 0s - loss: 0.1856 - accuracy: 1.0000\n",
      "Epoch 163/200\n",
      "11/11 - 0s - loss: 0.1816 - accuracy: 1.0000\n",
      "Epoch 164/200\n",
      "11/11 - 0s - loss: 0.1777 - accuracy: 1.0000\n",
      "Epoch 165/200\n",
      "11/11 - 0s - loss: 0.1739 - accuracy: 1.0000\n",
      "Epoch 166/200\n",
      "11/11 - 0s - loss: 0.1702 - accuracy: 1.0000\n",
      "Epoch 167/200\n",
      "11/11 - 0s - loss: 0.1665 - accuracy: 1.0000\n",
      "Epoch 168/200\n",
      "11/11 - 0s - loss: 0.1630 - accuracy: 1.0000\n",
      "Epoch 169/200\n",
      "11/11 - 0s - loss: 0.1596 - accuracy: 1.0000\n",
      "Epoch 170/200\n",
      "11/11 - 0s - loss: 0.1562 - accuracy: 1.0000\n",
      "Epoch 171/200\n",
      "11/11 - 0s - loss: 0.1529 - accuracy: 1.0000\n",
      "Epoch 172/200\n",
      "11/11 - 0s - loss: 0.1497 - accuracy: 1.0000\n",
      "Epoch 173/200\n",
      "11/11 - 0s - loss: 0.1466 - accuracy: 1.0000\n",
      "Epoch 174/200\n",
      "11/11 - 0s - loss: 0.1436 - accuracy: 1.0000\n",
      "Epoch 175/200\n",
      "11/11 - 0s - loss: 0.1406 - accuracy: 1.0000\n",
      "Epoch 176/200\n",
      "11/11 - 0s - loss: 0.1377 - accuracy: 1.0000\n",
      "Epoch 177/200\n",
      "11/11 - 0s - loss: 0.1349 - accuracy: 1.0000\n",
      "Epoch 178/200\n",
      "11/11 - 0s - loss: 0.1322 - accuracy: 1.0000\n",
      "Epoch 179/200\n",
      "11/11 - 0s - loss: 0.1295 - accuracy: 1.0000\n",
      "Epoch 180/200\n",
      "11/11 - 0s - loss: 0.1269 - accuracy: 1.0000\n",
      "Epoch 181/200\n",
      "11/11 - 0s - loss: 0.1244 - accuracy: 1.0000\n",
      "Epoch 182/200\n",
      "11/11 - 0s - loss: 0.1219 - accuracy: 1.0000\n",
      "Epoch 183/200\n",
      "11/11 - 0s - loss: 0.1195 - accuracy: 1.0000\n",
      "Epoch 184/200\n",
      "11/11 - 0s - loss: 0.1171 - accuracy: 1.0000\n",
      "Epoch 185/200\n",
      "11/11 - 0s - loss: 0.1149 - accuracy: 1.0000\n",
      "Epoch 186/200\n",
      "11/11 - 0s - loss: 0.1126 - accuracy: 1.0000\n",
      "Epoch 187/200\n",
      "11/11 - 0s - loss: 0.1105 - accuracy: 1.0000\n",
      "Epoch 188/200\n",
      "11/11 - 0s - loss: 0.1083 - accuracy: 1.0000\n",
      "Epoch 189/200\n",
      "11/11 - 0s - loss: 0.1063 - accuracy: 1.0000\n",
      "Epoch 190/200\n",
      "11/11 - 0s - loss: 0.1043 - accuracy: 1.0000\n",
      "Epoch 191/200\n",
      "11/11 - 0s - loss: 0.1023 - accuracy: 1.0000\n",
      "Epoch 192/200\n",
      "11/11 - 0s - loss: 0.1004 - accuracy: 1.0000\n",
      "Epoch 193/200\n",
      "11/11 - 0s - loss: 0.0986 - accuracy: 1.0000\n",
      "Epoch 194/200\n",
      "11/11 - 0s - loss: 0.0967 - accuracy: 1.0000\n",
      "Epoch 195/200\n",
      "11/11 - 0s - loss: 0.0950 - accuracy: 1.0000\n",
      "Epoch 196/200\n",
      "11/11 - 0s - loss: 0.0933 - accuracy: 1.0000\n",
      "Epoch 197/200\n",
      "11/11 - 0s - loss: 0.0916 - accuracy: 1.0000\n",
      "Epoch 198/200\n",
      "11/11 - 0s - loss: 0.0900 - accuracy: 1.0000\n",
      "Epoch 199/200\n",
      "11/11 - 0s - loss: 0.0884 - accuracy: 1.0000\n",
      "Epoch 200/200\n",
      "11/11 - 0s - loss: 0.0868 - accuracy: 1.0000\n"
     ]
    },
    {
     "data": {
      "text/plain": [
       "<tensorflow.python.keras.callbacks.History at 0x1c820cd8da0>"
      ]
     },
     "execution_count": 45,
     "metadata": {},
     "output_type": "execute_result"
    }
   ],
   "source": [
    "model = Sequential()\n",
    "\n",
    "model.add(Embedding(vocab_size, 10, input_length = max_len-1))\n",
    "model.add(SimpleRNN(32))\n",
    "model.add(Dense(vocab_size, activation = 'softmax'))\n",
    "\n",
    "model.compile(loss = 'categorical_crossentropy', optimizer = 'adam', metrics = ['accuracy'])\n",
    "model.fit(x, y, epochs = 200, verbose = 2)"
   ]
  },
  {
   "cell_type": "code",
   "execution_count": 63,
   "metadata": {},
   "outputs": [],
   "source": [
    "# 문장 생성 함수\n",
    "\n",
    "def sentence_generation(model, t, current_word, n): # 모델, 토크나이저, 현재단어, 반복횟수(예측횟수)\n",
    "    init_word = current_word   # 처음 들어온 단어도 마지막에 같이 출력하기 위해 저장\n",
    "    sentence = ''\n",
    "    for _ in range(n):  # n번 반복\n",
    "        encoded = t.texts_to_sequences([current_word])[0]           # 현재 단어에 대한 정수 인코딩\n",
    "        encoded = pad_sequences([encoded], maxlen=5, padding='pre') # 데이터에 대한 패딩\n",
    "        result = model.predict_classes(encoded, verbose=0)\n",
    "        # 입력한 x(현재 단어)에 대해서 y를 예측하고 y(예측한 단어)를 result에 저장\n",
    "        \n",
    "        for word, index in t.word_index.items(): \n",
    "            if index == result: # 만약 예측한 단어 인덱스와 동일한 단어가 있다면\n",
    "                break           # 해당 단어가 예측 단어이므로 break\n",
    "        current_word = current_word + ' '  + word # 현재 단어 + ' ' + 예측 단어를 현재 단어로 변경\n",
    "        sentence = sentence + ' ' + word         # 예측 단어를 문장에 저장\n",
    "\n",
    "    sentence = init_word + sentence\n",
    "    return sentence"
   ]
  },
  {
   "cell_type": "code",
   "execution_count": 65,
   "metadata": {},
   "outputs": [
    {
     "name": "stdout",
     "output_type": "stream",
     "text": [
      "경마장에 있는 말이 뛰고 있다\n"
     ]
    }
   ],
   "source": [
    "print(sentence_generation(model, t, '경마장에', 4))"
   ]
  },
  {
   "cell_type": "code",
   "execution_count": 66,
   "metadata": {},
   "outputs": [
    {
     "name": "stdout",
     "output_type": "stream",
     "text": [
      "경마장에 있는 말이 뛰고 있다 말이 곱다 곱다 있다 곱다 곱다\n"
     ]
    }
   ],
   "source": [
    "print(sentence_generation(model, t, '경마장에', 10))"
   ]
  },
  {
   "cell_type": "code",
   "execution_count": 59,
   "metadata": {},
   "outputs": [
    {
     "name": "stdout",
     "output_type": "stream",
     "text": [
      "그의 말이 법이다\n"
     ]
    }
   ],
   "source": [
    "print(sentence_generation(model, t, '그의', 2)) "
   ]
  },
  {
   "cell_type": "code",
   "execution_count": 61,
   "metadata": {},
   "outputs": [
    {
     "name": "stdout",
     "output_type": "stream",
     "text": [
      "그의 말이 법이다 오는 말이 곱다\n"
     ]
    }
   ],
   "source": [
    "print(sentence_generation(model, t, '그의', 5)) "
   ]
  },
  {
   "cell_type": "markdown",
   "metadata": {},
   "source": [
    "### LSTM을 이용한 텍스트 생성"
   ]
  },
  {
   "cell_type": "markdown",
   "metadata": {},
   "source": [
    "#### 1) 데이터 전처리"
   ]
  },
  {
   "cell_type": "code",
   "execution_count": 67,
   "metadata": {},
   "outputs": [],
   "source": [
    "import pandas as pd\n",
    "from string import punctuation"
   ]
  },
  {
   "cell_type": "code",
   "execution_count": 68,
   "metadata": {},
   "outputs": [
    {
     "data": {
      "text/html": [
       "<div>\n",
       "<style scoped>\n",
       "    .dataframe tbody tr th:only-of-type {\n",
       "        vertical-align: middle;\n",
       "    }\n",
       "\n",
       "    .dataframe tbody tr th {\n",
       "        vertical-align: top;\n",
       "    }\n",
       "\n",
       "    .dataframe thead th {\n",
       "        text-align: right;\n",
       "    }\n",
       "</style>\n",
       "<table border=\"1\" class=\"dataframe\">\n",
       "  <thead>\n",
       "    <tr style=\"text-align: right;\">\n",
       "      <th></th>\n",
       "      <th>articleID</th>\n",
       "      <th>articleWordCount</th>\n",
       "      <th>byline</th>\n",
       "      <th>documentType</th>\n",
       "      <th>headline</th>\n",
       "      <th>keywords</th>\n",
       "      <th>multimedia</th>\n",
       "      <th>newDesk</th>\n",
       "      <th>printPage</th>\n",
       "      <th>pubDate</th>\n",
       "      <th>sectionName</th>\n",
       "      <th>snippet</th>\n",
       "      <th>source</th>\n",
       "      <th>typeOfMaterial</th>\n",
       "      <th>webURL</th>\n",
       "    </tr>\n",
       "  </thead>\n",
       "  <tbody>\n",
       "    <tr>\n",
       "      <th>0</th>\n",
       "      <td>5adf6684068401528a2aa69b</td>\n",
       "      <td>781</td>\n",
       "      <td>By JOHN BRANCH</td>\n",
       "      <td>article</td>\n",
       "      <td>Former N.F.L. Cheerleaders’ Settlement Offer: ...</td>\n",
       "      <td>['Workplace Hazards and Violations', 'Football...</td>\n",
       "      <td>68</td>\n",
       "      <td>Sports</td>\n",
       "      <td>0</td>\n",
       "      <td>2018-04-24 17:16:49</td>\n",
       "      <td>Pro Football</td>\n",
       "      <td>“I understand that they could meet with us, pa...</td>\n",
       "      <td>The New York Times</td>\n",
       "      <td>News</td>\n",
       "      <td>https://www.nytimes.com/2018/04/24/sports/foot...</td>\n",
       "    </tr>\n",
       "    <tr>\n",
       "      <th>1</th>\n",
       "      <td>5adf653f068401528a2aa697</td>\n",
       "      <td>656</td>\n",
       "      <td>By LISA FRIEDMAN</td>\n",
       "      <td>article</td>\n",
       "      <td>E.P.A. to Unveil a New Rule. Its Effect: Less ...</td>\n",
       "      <td>['Environmental Protection Agency', 'Pruitt, S...</td>\n",
       "      <td>68</td>\n",
       "      <td>Climate</td>\n",
       "      <td>0</td>\n",
       "      <td>2018-04-24 17:11:21</td>\n",
       "      <td>Unknown</td>\n",
       "      <td>The agency plans to publish a new regulation T...</td>\n",
       "      <td>The New York Times</td>\n",
       "      <td>News</td>\n",
       "      <td>https://www.nytimes.com/2018/04/24/climate/epa...</td>\n",
       "    </tr>\n",
       "    <tr>\n",
       "      <th>2</th>\n",
       "      <td>5adf4626068401528a2aa628</td>\n",
       "      <td>2427</td>\n",
       "      <td>By PETE WELLS</td>\n",
       "      <td>article</td>\n",
       "      <td>The New Noma, Explained</td>\n",
       "      <td>['Restaurants', 'Noma (Copenhagen, Restaurant)...</td>\n",
       "      <td>66</td>\n",
       "      <td>Dining</td>\n",
       "      <td>0</td>\n",
       "      <td>2018-04-24 14:58:44</td>\n",
       "      <td>Unknown</td>\n",
       "      <td>What’s it like to eat at the second incarnatio...</td>\n",
       "      <td>The New York Times</td>\n",
       "      <td>News</td>\n",
       "      <td>https://www.nytimes.com/2018/04/24/dining/noma...</td>\n",
       "    </tr>\n",
       "    <tr>\n",
       "      <th>3</th>\n",
       "      <td>5adf40d2068401528a2aa619</td>\n",
       "      <td>626</td>\n",
       "      <td>By JULIE HIRSCHFELD DAVIS and PETER BAKER</td>\n",
       "      <td>article</td>\n",
       "      <td>Unknown</td>\n",
       "      <td>['Macron, Emmanuel (1977- )', 'Trump, Donald J...</td>\n",
       "      <td>68</td>\n",
       "      <td>Washington</td>\n",
       "      <td>0</td>\n",
       "      <td>2018-04-24 14:35:57</td>\n",
       "      <td>Europe</td>\n",
       "      <td>President Trump welcomed President Emmanuel Ma...</td>\n",
       "      <td>The New York Times</td>\n",
       "      <td>News</td>\n",
       "      <td>https://www.nytimes.com/2018/04/24/world/europ...</td>\n",
       "    </tr>\n",
       "    <tr>\n",
       "      <th>4</th>\n",
       "      <td>5adf3d64068401528a2aa60f</td>\n",
       "      <td>815</td>\n",
       "      <td>By IAN AUSTEN and DAN BILEFSKY</td>\n",
       "      <td>article</td>\n",
       "      <td>Unknown</td>\n",
       "      <td>['Toronto, Ontario, Attack (April, 2018)', 'Mu...</td>\n",
       "      <td>68</td>\n",
       "      <td>Foreign</td>\n",
       "      <td>0</td>\n",
       "      <td>2018-04-24 14:21:21</td>\n",
       "      <td>Canada</td>\n",
       "      <td>Alek Minassian, 25, a resident of Toronto’s Ri...</td>\n",
       "      <td>The New York Times</td>\n",
       "      <td>News</td>\n",
       "      <td>https://www.nytimes.com/2018/04/24/world/canad...</td>\n",
       "    </tr>\n",
       "  </tbody>\n",
       "</table>\n",
       "</div>"
      ],
      "text/plain": [
       "                  articleID  articleWordCount  \\\n",
       "0  5adf6684068401528a2aa69b               781   \n",
       "1  5adf653f068401528a2aa697               656   \n",
       "2  5adf4626068401528a2aa628              2427   \n",
       "3  5adf40d2068401528a2aa619               626   \n",
       "4  5adf3d64068401528a2aa60f               815   \n",
       "\n",
       "                                      byline documentType  \\\n",
       "0                             By JOHN BRANCH      article   \n",
       "1                           By LISA FRIEDMAN      article   \n",
       "2                              By PETE WELLS      article   \n",
       "3  By JULIE HIRSCHFELD DAVIS and PETER BAKER      article   \n",
       "4             By IAN AUSTEN and DAN BILEFSKY      article   \n",
       "\n",
       "                                            headline  \\\n",
       "0  Former N.F.L. Cheerleaders’ Settlement Offer: ...   \n",
       "1  E.P.A. to Unveil a New Rule. Its Effect: Less ...   \n",
       "2                            The New Noma, Explained   \n",
       "3                                            Unknown   \n",
       "4                                            Unknown   \n",
       "\n",
       "                                            keywords  multimedia     newDesk  \\\n",
       "0  ['Workplace Hazards and Violations', 'Football...          68      Sports   \n",
       "1  ['Environmental Protection Agency', 'Pruitt, S...          68     Climate   \n",
       "2  ['Restaurants', 'Noma (Copenhagen, Restaurant)...          66      Dining   \n",
       "3  ['Macron, Emmanuel (1977- )', 'Trump, Donald J...          68  Washington   \n",
       "4  ['Toronto, Ontario, Attack (April, 2018)', 'Mu...          68     Foreign   \n",
       "\n",
       "   printPage              pubDate   sectionName  \\\n",
       "0          0  2018-04-24 17:16:49  Pro Football   \n",
       "1          0  2018-04-24 17:11:21       Unknown   \n",
       "2          0  2018-04-24 14:58:44       Unknown   \n",
       "3          0  2018-04-24 14:35:57        Europe   \n",
       "4          0  2018-04-24 14:21:21        Canada   \n",
       "\n",
       "                                             snippet              source  \\\n",
       "0  “I understand that they could meet with us, pa...  The New York Times   \n",
       "1  The agency plans to publish a new regulation T...  The New York Times   \n",
       "2  What’s it like to eat at the second incarnatio...  The New York Times   \n",
       "3  President Trump welcomed President Emmanuel Ma...  The New York Times   \n",
       "4  Alek Minassian, 25, a resident of Toronto’s Ri...  The New York Times   \n",
       "\n",
       "  typeOfMaterial                                             webURL  \n",
       "0           News  https://www.nytimes.com/2018/04/24/sports/foot...  \n",
       "1           News  https://www.nytimes.com/2018/04/24/climate/epa...  \n",
       "2           News  https://www.nytimes.com/2018/04/24/dining/noma...  \n",
       "3           News  https://www.nytimes.com/2018/04/24/world/europ...  \n",
       "4           News  https://www.nytimes.com/2018/04/24/world/canad...  "
      ]
     },
     "execution_count": 68,
     "metadata": {},
     "output_type": "execute_result"
    }
   ],
   "source": [
    "df = pd.read_csv('ArticlesApril2018.csv')\n",
    "df.head()"
   ]
  },
  {
   "cell_type": "code",
   "execution_count": 69,
   "metadata": {},
   "outputs": [
    {
     "name": "stdout",
     "output_type": "stream",
     "text": [
      "열의 개수:  15\n",
      "Index(['articleID', 'articleWordCount', 'byline', 'documentType', 'headline',\n",
      "       'keywords', 'multimedia', 'newDesk', 'printPage', 'pubDate',\n",
      "       'sectionName', 'snippet', 'source', 'typeOfMaterial', 'webURL'],\n",
      "      dtype='object')\n"
     ]
    }
   ],
   "source": [
    "# columns 확인\n",
    "\n",
    "print('열의 개수: ', len(df.columns))\n",
    "print(df.columns)"
   ]
  },
  {
   "cell_type": "code",
   "execution_count": 71,
   "metadata": {},
   "outputs": [
    {
     "data": {
      "text/plain": [
       "False"
      ]
     },
     "execution_count": 71,
     "metadata": {},
     "output_type": "execute_result"
    }
   ],
   "source": [
    "# Null 값 확인\n",
    "\n",
    "df['headline'].isnull().values.any()"
   ]
  },
  {
   "cell_type": "code",
   "execution_count": 72,
   "metadata": {},
   "outputs": [
    {
     "data": {
      "text/plain": [
       "['Former N.F.L. Cheerleaders’ Settlement Offer: $1 and a Meeting With Goodell',\n",
       " 'E.P.A. to Unveil a New Rule. Its Effect: Less Science in Policymaking.',\n",
       " 'The New Noma, Explained',\n",
       " 'Unknown',\n",
       " 'Unknown']"
      ]
     },
     "execution_count": 72,
     "metadata": {},
     "output_type": "execute_result"
    }
   ],
   "source": [
    "# headline에서 신문 기사 제목을 뽑아 하나의 리스트로 저장\n",
    "\n",
    "headline = []\n",
    "headline.extend(list(df.headline.values))\n",
    "headline[:5]"
   ]
  },
  {
   "cell_type": "code",
   "execution_count": 74,
   "metadata": {},
   "outputs": [
    {
     "name": "stdout",
     "output_type": "stream",
     "text": [
      "총 샘플의 개수: 1324\n"
     ]
    }
   ],
   "source": [
    "# 전체 샘플 개수 확인\n",
    "\n",
    "print('총 샘플의 개수: {}'.format(len(headline)))"
   ]
  },
  {
   "cell_type": "code",
   "execution_count": 75,
   "metadata": {},
   "outputs": [
    {
     "name": "stdout",
     "output_type": "stream",
     "text": [
      "노이즈값 제거 후 샘플의 개수: 1214\n"
     ]
    }
   ],
   "source": [
    "# 데이터 중 'Unknown' 제거 필요\n",
    "\n",
    "headline = [n for n in headline if n != 'Unknown']\n",
    "print('노이즈값 제거 후 샘플의 개수: {}'.format(len(headline)))"
   ]
  },
  {
   "cell_type": "code",
   "execution_count": 76,
   "metadata": {},
   "outputs": [
    {
     "data": {
      "text/plain": [
       "['Former N.F.L. Cheerleaders’ Settlement Offer: $1 and a Meeting With Goodell',\n",
       " 'E.P.A. to Unveil a New Rule. Its Effect: Less Science in Policymaking.',\n",
       " 'The New Noma, Explained',\n",
       " 'How a Bag of Texas Dirt  Became a Times Tradition',\n",
       " 'Is School a Place for Self-Expression?']"
      ]
     },
     "execution_count": 76,
     "metadata": {},
     "output_type": "execute_result"
    }
   ],
   "source": [
    "headline[:5]"
   ]
  },
  {
   "cell_type": "code",
   "execution_count": 79,
   "metadata": {},
   "outputs": [
    {
     "data": {
      "text/plain": [
       "['former nfl cheerleaders settlement offer 1 and a meeting with goodell',\n",
       " 'epa to unveil a new rule its effect less science in policymaking',\n",
       " 'the new noma explained',\n",
       " 'how a bag of texas dirt  became a times tradition',\n",
       " 'is school a place for selfexpression']"
      ]
     },
     "execution_count": 79,
     "metadata": {},
     "output_type": "execute_result"
    }
   ],
   "source": [
    "# 데이터 전처리: 구두점 제거, 단어의 소문자화\n",
    "\n",
    "def repreprocessing(s):\n",
    "    s = s.encode('utf-8').decode('ascii','ignore')\n",
    "    return ''.join(c for c in s if c not in punctuation).lower()\n",
    "\n",
    "text = [repreprocessing(x) for x in headline]\n",
    "text[:5]"
   ]
  },
  {
   "cell_type": "code",
   "execution_count": 80,
   "metadata": {},
   "outputs": [
    {
     "name": "stdout",
     "output_type": "stream",
     "text": [
      "단어 집합의 크기: 3494\n"
     ]
    }
   ],
   "source": [
    "# 단어 집합 생성\n",
    "\n",
    "t = Tokenizer()\n",
    "t.fit_on_texts(text)\n",
    "vocab_size = len(t.word_index) + 1\n",
    "\n",
    "print('단어 집합의 크기: %d' % vocab_size)"
   ]
  },
  {
   "cell_type": "code",
   "execution_count": 81,
   "metadata": {},
   "outputs": [
    {
     "data": {
      "text/plain": [
       "[[99, 269],\n",
       " [99, 269, 371],\n",
       " [99, 269, 371, 1115],\n",
       " [99, 269, 371, 1115, 582],\n",
       " [99, 269, 371, 1115, 582, 52],\n",
       " [99, 269, 371, 1115, 582, 52, 7],\n",
       " [99, 269, 371, 1115, 582, 52, 7, 2],\n",
       " [99, 269, 371, 1115, 582, 52, 7, 2, 372],\n",
       " [99, 269, 371, 1115, 582, 52, 7, 2, 372, 10],\n",
       " [99, 269, 371, 1115, 582, 52, 7, 2, 372, 10, 1116],\n",
       " [100, 3]]"
      ]
     },
     "execution_count": 81,
     "metadata": {},
     "output_type": "execute_result"
    }
   ],
   "source": [
    "# 훈련 데이터 생성\n",
    "\n",
    "sequences = list()\n",
    "\n",
    "for line in text:\n",
    "    encoded = t.texts_to_sequences([line])[0]\n",
    "    for i in range(1, len(encoded)):\n",
    "        sequence = encoded[:i+1]\n",
    "        sequences.append(sequence)\n",
    "        \n",
    "sequences[:11]"
   ]
  },
  {
   "cell_type": "code",
   "execution_count": 82,
   "metadata": {},
   "outputs": [
    {
     "name": "stdout",
     "output_type": "stream",
     "text": [
      "빈도수 상위 582번 단어 : offer\n"
     ]
    }
   ],
   "source": [
    "# 인덱스로부터 단어를 찾는 딕셔너리: index_to_word\n",
    "\n",
    "index_to_word = {}\n",
    "for key, value in t.word_index.items():  # key: 단어, value: 인덱스\n",
    "    index_to_word[value] = key\n",
    "    \n",
    "print('빈도수 상위 582번 단어 : {}'.format(index_to_word[582]))"
   ]
  },
  {
   "cell_type": "code",
   "execution_count": 83,
   "metadata": {},
   "outputs": [
    {
     "name": "stdout",
     "output_type": "stream",
     "text": [
      "샘플의 최대 길이: 24\n"
     ]
    }
   ],
   "source": [
    "# y 데이터 분리하기 전, 전체 샘플의 길이를 동일하게 만드는 패딩 작업\n",
    "# 가장 긴 샘플 길이 확인\n",
    "\n",
    "max_len = max(len(l) for l in sequences)\n",
    "print('샘플의 최대 길이: {}'.format(max_len))"
   ]
  },
  {
   "cell_type": "code",
   "execution_count": 84,
   "metadata": {},
   "outputs": [
    {
     "name": "stdout",
     "output_type": "stream",
     "text": [
      "[[   0    0    0    0    0    0    0    0    0    0    0    0    0    0\n",
      "     0    0    0    0    0    0    0    0   99  269]\n",
      " [   0    0    0    0    0    0    0    0    0    0    0    0    0    0\n",
      "     0    0    0    0    0    0    0   99  269  371]\n",
      " [   0    0    0    0    0    0    0    0    0    0    0    0    0    0\n",
      "     0    0    0    0    0    0   99  269  371 1115]]\n"
     ]
    }
   ],
   "source": [
    "sequences = pad_sequences(sequences, maxlen = max_len, padding='pre')\n",
    "print(sequences[:3])"
   ]
  },
  {
   "cell_type": "code",
   "execution_count": 86,
   "metadata": {},
   "outputs": [],
   "source": [
    "# x, y 분리\n",
    "\n",
    "sequences = np.array(sequences)\n",
    "x = sequences[:,:-1]\n",
    "y = sequences[:,-1]"
   ]
  },
  {
   "cell_type": "code",
   "execution_count": 87,
   "metadata": {},
   "outputs": [
    {
     "name": "stdout",
     "output_type": "stream",
     "text": [
      "[[  0   0   0   0   0   0   0   0   0   0   0   0   0   0   0   0   0   0\n",
      "    0   0   0   0  99]\n",
      " [  0   0   0   0   0   0   0   0   0   0   0   0   0   0   0   0   0   0\n",
      "    0   0   0  99 269]\n",
      " [  0   0   0   0   0   0   0   0   0   0   0   0   0   0   0   0   0   0\n",
      "    0   0  99 269 371]]\n"
     ]
    }
   ],
   "source": [
    "print(x[:3])"
   ]
  },
  {
   "cell_type": "code",
   "execution_count": 88,
   "metadata": {},
   "outputs": [
    {
     "name": "stdout",
     "output_type": "stream",
     "text": [
      "[ 269  371 1115]\n"
     ]
    }
   ],
   "source": [
    "print(y[:3])"
   ]
  },
  {
   "cell_type": "code",
   "execution_count": 89,
   "metadata": {},
   "outputs": [],
   "source": [
    "# 레이블을 원핫 인코딩\n",
    "\n",
    "y = to_categorical(y, num_classes = vocab_size)"
   ]
  },
  {
   "cell_type": "markdown",
   "metadata": {},
   "source": [
    "#### 2) LSTM 모델"
   ]
  },
  {
   "cell_type": "code",
   "execution_count": 90,
   "metadata": {},
   "outputs": [],
   "source": [
    "from tensorflow.keras.layers import LSTM"
   ]
  },
  {
   "cell_type": "code",
   "execution_count": 91,
   "metadata": {},
   "outputs": [
    {
     "name": "stdout",
     "output_type": "stream",
     "text": [
      "Train on 7803 samples\n",
      "Epoch 1/200\n",
      "7803/7803 - 12s - loss: 7.6502 - accuracy: 0.0265\n",
      "Epoch 2/200\n",
      "7803/7803 - 9s - loss: 7.1162 - accuracy: 0.0309\n",
      "Epoch 3/200\n",
      "7803/7803 - 8s - loss: 6.9783 - accuracy: 0.0334\n",
      "Epoch 4/200\n",
      "7803/7803 - 8s - loss: 6.8524 - accuracy: 0.0419\n",
      "Epoch 5/200\n",
      "7803/7803 - 9s - loss: 6.7103 - accuracy: 0.0424\n",
      "Epoch 6/200\n",
      "7803/7803 - 9s - loss: 6.5460 - accuracy: 0.0483\n",
      "Epoch 7/200\n",
      "7803/7803 - 8s - loss: 6.3633 - accuracy: 0.0529\n",
      "Epoch 8/200\n",
      "7803/7803 - 7s - loss: 6.1698 - accuracy: 0.0575\n",
      "Epoch 9/200\n",
      "7803/7803 - 8s - loss: 5.9690 - accuracy: 0.0633\n",
      "Epoch 10/200\n",
      "7803/7803 - 9s - loss: 5.7792 - accuracy: 0.0642\n",
      "Epoch 11/200\n",
      "7803/7803 - 9s - loss: 5.5931 - accuracy: 0.0725\n",
      "Epoch 12/200\n",
      "7803/7803 - 9s - loss: 5.4168 - accuracy: 0.0756\n",
      "Epoch 13/200\n",
      "7803/7803 - 9s - loss: 5.2517 - accuracy: 0.0818\n",
      "Epoch 14/200\n",
      "7803/7803 - 9s - loss: 5.0926 - accuracy: 0.0898\n",
      "Epoch 15/200\n",
      "7803/7803 - 9s - loss: 4.9428 - accuracy: 0.1001\n",
      "Epoch 16/200\n",
      "7803/7803 - 8s - loss: 4.7994 - accuracy: 0.1106\n",
      "Epoch 17/200\n",
      "7803/7803 - 8s - loss: 4.6620 - accuracy: 0.1235\n",
      "Epoch 18/200\n",
      "7803/7803 - 9s - loss: 4.5303 - accuracy: 0.1367\n",
      "Epoch 19/200\n",
      "7803/7803 - 9s - loss: 4.4035 - accuracy: 0.1537\n",
      "Epoch 20/200\n",
      "7803/7803 - 8s - loss: 4.2796 - accuracy: 0.1689\n",
      "Epoch 21/200\n",
      "7803/7803 - 9s - loss: 4.1595 - accuracy: 0.1897\n",
      "Epoch 22/200\n",
      "7803/7803 - 8s - loss: 4.0445 - accuracy: 0.2075\n",
      "Epoch 23/200\n",
      "7803/7803 - 8s - loss: 3.9344 - accuracy: 0.2218\n",
      "Epoch 24/200\n",
      "7803/7803 - 8s - loss: 3.8254 - accuracy: 0.2394\n",
      "Epoch 25/200\n",
      "7803/7803 - 8s - loss: 3.7217 - accuracy: 0.2621\n",
      "Epoch 26/200\n",
      "7803/7803 - 8s - loss: 3.6223 - accuracy: 0.2766\n",
      "Epoch 27/200\n",
      "7803/7803 - 8s - loss: 3.5244 - accuracy: 0.2912\n",
      "Epoch 28/200\n",
      "7803/7803 - 8s - loss: 3.4297 - accuracy: 0.3082\n",
      "Epoch 29/200\n",
      "7803/7803 - 8s - loss: 3.3428 - accuracy: 0.3251\n",
      "Epoch 30/200\n",
      "7803/7803 - 9s - loss: 3.2598 - accuracy: 0.3377\n",
      "Epoch 31/200\n",
      "7803/7803 - 8s - loss: 3.1753 - accuracy: 0.3518\n",
      "Epoch 32/200\n",
      "7803/7803 - 9s - loss: 3.0965 - accuracy: 0.3701\n",
      "Epoch 33/200\n",
      "7803/7803 - 9s - loss: 3.0202 - accuracy: 0.3815\n",
      "Epoch 34/200\n",
      "7803/7803 - 9s - loss: 2.9451 - accuracy: 0.3995\n",
      "Epoch 35/200\n",
      "7803/7803 - 8s - loss: 2.8750 - accuracy: 0.4105\n",
      "Epoch 36/200\n",
      "7803/7803 - 8s - loss: 2.8046 - accuracy: 0.4253\n",
      "Epoch 37/200\n",
      "7803/7803 - 9s - loss: 2.7396 - accuracy: 0.4355\n",
      "Epoch 38/200\n",
      "7803/7803 - 9s - loss: 2.6747 - accuracy: 0.4420\n",
      "Epoch 39/200\n",
      "7803/7803 - 9s - loss: 2.6150 - accuracy: 0.4585\n",
      "Epoch 40/200\n",
      "7803/7803 - 9s - loss: 2.5544 - accuracy: 0.4733\n",
      "Epoch 41/200\n",
      "7803/7803 - 9s - loss: 2.4954 - accuracy: 0.4837\n",
      "Epoch 42/200\n",
      "7803/7803 - 9s - loss: 2.4393 - accuracy: 0.4981\n",
      "Epoch 43/200\n",
      "7803/7803 - 9s - loss: 2.3839 - accuracy: 0.5081\n",
      "Epoch 44/200\n",
      "7803/7803 - 8s - loss: 2.3297 - accuracy: 0.5199\n",
      "Epoch 45/200\n",
      "7803/7803 - 9s - loss: 2.2765 - accuracy: 0.5321\n",
      "Epoch 46/200\n",
      "7803/7803 - 9s - loss: 2.2282 - accuracy: 0.5421\n",
      "Epoch 47/200\n",
      "7803/7803 - 9s - loss: 2.1784 - accuracy: 0.5512\n",
      "Epoch 48/200\n",
      "7803/7803 - 9s - loss: 2.1313 - accuracy: 0.5654\n",
      "Epoch 49/200\n",
      "7803/7803 - 9s - loss: 2.0833 - accuracy: 0.5705\n",
      "Epoch 50/200\n",
      "7803/7803 - 9s - loss: 2.0391 - accuracy: 0.5813\n",
      "Epoch 51/200\n",
      "7803/7803 - 9s - loss: 1.9892 - accuracy: 0.5941\n",
      "Epoch 52/200\n",
      "7803/7803 - 9s - loss: 1.9493 - accuracy: 0.6007\n",
      "Epoch 53/200\n",
      "7803/7803 - 9s - loss: 1.9065 - accuracy: 0.6114\n",
      "Epoch 54/200\n",
      "7803/7803 - 9s - loss: 1.8645 - accuracy: 0.6194\n",
      "Epoch 55/200\n",
      "7803/7803 - 8s - loss: 1.8234 - accuracy: 0.6254\n",
      "Epoch 56/200\n",
      "7803/7803 - 9s - loss: 1.7821 - accuracy: 0.6367\n",
      "Epoch 57/200\n",
      "7803/7803 - 9s - loss: 1.7453 - accuracy: 0.6432\n",
      "Epoch 58/200\n",
      "7803/7803 - 9s - loss: 1.7042 - accuracy: 0.6556\n",
      "Epoch 59/200\n",
      "7803/7803 - 8s - loss: 1.6664 - accuracy: 0.6630\n",
      "Epoch 60/200\n",
      "7803/7803 - 9s - loss: 1.6305 - accuracy: 0.6712\n",
      "Epoch 61/200\n",
      "7803/7803 - 8s - loss: 1.5930 - accuracy: 0.6756\n",
      "Epoch 62/200\n",
      "7803/7803 - 9s - loss: 1.5597 - accuracy: 0.6849\n",
      "Epoch 63/200\n",
      "7803/7803 - 8s - loss: 1.5253 - accuracy: 0.6874\n",
      "Epoch 64/200\n",
      "7803/7803 - 9s - loss: 1.4918 - accuracy: 0.6973\n",
      "Epoch 65/200\n",
      "7803/7803 - 9s - loss: 1.4589 - accuracy: 0.7043\n",
      "Epoch 66/200\n",
      "7803/7803 - 8s - loss: 1.4263 - accuracy: 0.7151\n",
      "Epoch 67/200\n",
      "7803/7803 - 9s - loss: 1.3929 - accuracy: 0.7242\n",
      "Epoch 68/200\n",
      "7803/7803 - 9s - loss: 1.3621 - accuracy: 0.7254\n",
      "Epoch 69/200\n",
      "7803/7803 - 9s - loss: 1.3339 - accuracy: 0.7341\n",
      "Epoch 70/200\n",
      "7803/7803 - 9s - loss: 1.3012 - accuracy: 0.7407\n",
      "Epoch 71/200\n",
      "7803/7803 - 9s - loss: 1.2726 - accuracy: 0.7480\n",
      "Epoch 72/200\n",
      "7803/7803 - 9s - loss: 1.2436 - accuracy: 0.7525\n",
      "Epoch 73/200\n",
      "7803/7803 - 9s - loss: 1.2158 - accuracy: 0.7583\n",
      "Epoch 74/200\n",
      "7803/7803 - 9s - loss: 1.1881 - accuracy: 0.7630\n",
      "Epoch 75/200\n",
      "7803/7803 - 9s - loss: 1.1609 - accuracy: 0.7718\n",
      "Epoch 76/200\n",
      "7803/7803 - 9s - loss: 1.1338 - accuracy: 0.7771\n",
      "Epoch 77/200\n",
      "7803/7803 - 9s - loss: 1.1089 - accuracy: 0.7787\n",
      "Epoch 78/200\n",
      "7803/7803 - 9s - loss: 1.0813 - accuracy: 0.7884\n",
      "Epoch 79/200\n",
      "7803/7803 - 9s - loss: 1.0561 - accuracy: 0.7935\n",
      "Epoch 80/200\n",
      "7803/7803 - 9s - loss: 1.0336 - accuracy: 0.7975\n",
      "Epoch 81/200\n",
      "7803/7803 - 9s - loss: 1.0106 - accuracy: 0.8019\n",
      "Epoch 82/200\n",
      "7803/7803 - 9s - loss: 0.9857 - accuracy: 0.8076\n",
      "Epoch 83/200\n",
      "7803/7803 - 9s - loss: 0.9641 - accuracy: 0.8105\n",
      "Epoch 84/200\n",
      "7803/7803 - 9s - loss: 0.9487 - accuracy: 0.8169\n",
      "Epoch 85/200\n",
      "7803/7803 - 9s - loss: 0.9237 - accuracy: 0.8167\n",
      "Epoch 86/200\n",
      "7803/7803 - 9s - loss: 0.9004 - accuracy: 0.8238\n",
      "Epoch 87/200\n",
      "7803/7803 - 9s - loss: 0.8782 - accuracy: 0.8294\n",
      "Epoch 88/200\n",
      "7803/7803 - 9s - loss: 0.8589 - accuracy: 0.8303\n",
      "Epoch 89/200\n",
      "7803/7803 - 9s - loss: 0.8408 - accuracy: 0.8354\n",
      "Epoch 90/200\n",
      "7803/7803 - 9s - loss: 0.8224 - accuracy: 0.8376\n",
      "Epoch 91/200\n",
      "7803/7803 - 8s - loss: 0.8045 - accuracy: 0.8439\n",
      "Epoch 92/200\n",
      "7803/7803 - 9s - loss: 0.7846 - accuracy: 0.8461\n",
      "Epoch 93/200\n",
      "7803/7803 - 9s - loss: 0.7704 - accuracy: 0.8484\n",
      "Epoch 94/200\n",
      "7803/7803 - 9s - loss: 0.7545 - accuracy: 0.8520\n",
      "Epoch 95/200\n",
      "7803/7803 - 8s - loss: 0.7356 - accuracy: 0.8548\n",
      "Epoch 96/200\n",
      "7803/7803 - 9s - loss: 0.7179 - accuracy: 0.8560\n",
      "Epoch 97/200\n",
      "7803/7803 - 9s - loss: 0.7009 - accuracy: 0.8617\n",
      "Epoch 98/200\n",
      "7803/7803 - 9s - loss: 0.6884 - accuracy: 0.8629\n",
      "Epoch 99/200\n",
      "7803/7803 - 8s - loss: 0.6752 - accuracy: 0.8645\n",
      "Epoch 100/200\n",
      "7803/7803 - 9s - loss: 0.6605 - accuracy: 0.8686\n",
      "Epoch 101/200\n",
      "7803/7803 - 9s - loss: 0.6450 - accuracy: 0.8698\n",
      "Epoch 102/200\n",
      "7803/7803 - 9s - loss: 0.6296 - accuracy: 0.8729\n",
      "Epoch 103/200\n",
      "7803/7803 - 9s - loss: 0.6200 - accuracy: 0.8745\n",
      "Epoch 104/200\n",
      "7803/7803 - 8s - loss: 0.6075 - accuracy: 0.8771\n",
      "Epoch 105/200\n",
      "7803/7803 - 9s - loss: 0.5943 - accuracy: 0.8815\n",
      "Epoch 106/200\n",
      "7803/7803 - 9s - loss: 0.5950 - accuracy: 0.8807\n",
      "Epoch 107/200\n",
      "7803/7803 - 9s - loss: 0.5711 - accuracy: 0.8853\n",
      "Epoch 108/200\n",
      "7803/7803 - 9s - loss: 0.5573 - accuracy: 0.8874\n",
      "Epoch 109/200\n",
      "7803/7803 - 9s - loss: 0.5451 - accuracy: 0.8894\n",
      "Epoch 110/200\n",
      "7803/7803 - 9s - loss: 0.5339 - accuracy: 0.8891\n",
      "Epoch 111/200\n",
      "7803/7803 - 9s - loss: 0.5223 - accuracy: 0.8944\n",
      "Epoch 112/200\n",
      "7803/7803 - 9s - loss: 0.5141 - accuracy: 0.8959\n",
      "Epoch 113/200\n",
      "7803/7803 - 9s - loss: 0.5069 - accuracy: 0.8952\n",
      "Epoch 114/200\n",
      "7803/7803 - 9s - loss: 0.4967 - accuracy: 0.8975\n",
      "Epoch 115/200\n",
      "7803/7803 - 9s - loss: 0.4872 - accuracy: 0.8980\n",
      "Epoch 116/200\n",
      "7803/7803 - 9s - loss: 0.4817 - accuracy: 0.8994\n",
      "Epoch 117/200\n",
      "7803/7803 - 8s - loss: 0.4716 - accuracy: 0.8990\n",
      "Epoch 118/200\n",
      "7803/7803 - 9s - loss: 0.4614 - accuracy: 0.9035\n",
      "Epoch 119/200\n",
      "7803/7803 - 9s - loss: 0.4525 - accuracy: 0.9039\n",
      "Epoch 120/200\n",
      "7803/7803 - 9s - loss: 0.4463 - accuracy: 0.9044\n",
      "Epoch 121/200\n",
      "7803/7803 - 9s - loss: 0.4386 - accuracy: 0.9057\n",
      "Epoch 122/200\n",
      "7803/7803 - 9s - loss: 0.4329 - accuracy: 0.9062\n",
      "Epoch 123/200\n",
      "7803/7803 - 8s - loss: 0.4287 - accuracy: 0.9084\n",
      "Epoch 124/200\n",
      "7803/7803 - 9s - loss: 0.4156 - accuracy: 0.9094\n",
      "Epoch 125/200\n",
      "7803/7803 - 9s - loss: 0.4087 - accuracy: 0.9094\n",
      "Epoch 126/200\n",
      "7803/7803 - 9s - loss: 0.4035 - accuracy: 0.9107\n",
      "Epoch 127/200\n",
      "7803/7803 - 9s - loss: 0.3975 - accuracy: 0.9121\n",
      "Epoch 128/200\n",
      "7803/7803 - 9s - loss: 0.3919 - accuracy: 0.9102\n",
      "Epoch 129/200\n",
      "7803/7803 - 9s - loss: 0.3857 - accuracy: 0.9121\n",
      "Epoch 130/200\n",
      "7803/7803 - 8s - loss: 0.3868 - accuracy: 0.9113\n",
      "Epoch 131/200\n",
      "7803/7803 - 9s - loss: 0.3856 - accuracy: 0.9112\n",
      "Epoch 132/200\n",
      "7803/7803 - 9s - loss: 0.3890 - accuracy: 0.9095\n"
     ]
    },
    {
     "name": "stdout",
     "output_type": "stream",
     "text": [
      "Epoch 133/200\n",
      "7803/7803 - 9s - loss: 0.3827 - accuracy: 0.9113\n",
      "Epoch 134/200\n",
      "7803/7803 - 9s - loss: 0.3664 - accuracy: 0.9134\n",
      "Epoch 135/200\n",
      "7803/7803 - 9s - loss: 0.3574 - accuracy: 0.9148\n",
      "Epoch 136/200\n",
      "7803/7803 - 9s - loss: 0.3511 - accuracy: 0.9134\n",
      "Epoch 137/200\n",
      "7803/7803 - 9s - loss: 0.3470 - accuracy: 0.9145\n",
      "Epoch 138/200\n",
      "7803/7803 - 9s - loss: 0.3430 - accuracy: 0.9158\n",
      "Epoch 139/200\n",
      "7803/7803 - 9s - loss: 0.3420 - accuracy: 0.9141\n",
      "Epoch 140/200\n",
      "7803/7803 - 9s - loss: 0.3375 - accuracy: 0.9158\n",
      "Epoch 141/200\n",
      "7803/7803 - 9s - loss: 0.3370 - accuracy: 0.9163\n",
      "Epoch 142/200\n",
      "7803/7803 - 9s - loss: 0.3327 - accuracy: 0.9162\n",
      "Epoch 143/200\n",
      "7803/7803 - 9s - loss: 0.3338 - accuracy: 0.9141\n",
      "Epoch 144/200\n",
      "7803/7803 - 9s - loss: 0.3295 - accuracy: 0.9173\n",
      "Epoch 145/200\n",
      "7803/7803 - 9s - loss: 0.3270 - accuracy: 0.9161\n",
      "Epoch 146/200\n",
      "7803/7803 - 9s - loss: 0.3220 - accuracy: 0.9149\n",
      "Epoch 147/200\n",
      "7803/7803 - 8s - loss: 0.3169 - accuracy: 0.9157\n",
      "Epoch 148/200\n",
      "7803/7803 - 9s - loss: 0.3158 - accuracy: 0.9153\n",
      "Epoch 149/200\n",
      "7803/7803 - 9s - loss: 0.3166 - accuracy: 0.9146\n",
      "Epoch 150/200\n",
      "7803/7803 - 9s - loss: 0.3202 - accuracy: 0.9148\n",
      "Epoch 151/200\n",
      "7803/7803 - 9s - loss: 0.3092 - accuracy: 0.9161\n",
      "Epoch 152/200\n",
      "7803/7803 - 9s - loss: 0.3061 - accuracy: 0.9162\n",
      "Epoch 153/200\n",
      "7803/7803 - 9s - loss: 0.3031 - accuracy: 0.9159\n",
      "Epoch 154/200\n",
      "7803/7803 - 9s - loss: 0.3032 - accuracy: 0.9148\n",
      "Epoch 155/200\n",
      "7803/7803 - 9s - loss: 0.2997 - accuracy: 0.9154\n",
      "Epoch 156/200\n",
      "7803/7803 - 9s - loss: 0.2983 - accuracy: 0.9167\n",
      "Epoch 157/200\n",
      "7803/7803 - 9s - loss: 0.3010 - accuracy: 0.9161\n",
      "Epoch 158/200\n",
      "7803/7803 - 9s - loss: 0.2964 - accuracy: 0.9180\n",
      "Epoch 159/200\n",
      "7803/7803 - 9s - loss: 0.2943 - accuracy: 0.9173\n",
      "Epoch 160/200\n",
      "7803/7803 - 9s - loss: 0.2918 - accuracy: 0.9166\n",
      "Epoch 161/200\n",
      "7803/7803 - 9s - loss: 0.2909 - accuracy: 0.9149\n",
      "Epoch 162/200\n",
      "7803/7803 - 9s - loss: 0.3067 - accuracy: 0.9144\n",
      "Epoch 163/200\n",
      "7803/7803 - 9s - loss: 0.3259 - accuracy: 0.9121\n",
      "Epoch 164/200\n",
      "7803/7803 - 9s - loss: 0.2968 - accuracy: 0.9163\n",
      "Epoch 165/200\n",
      "7803/7803 - 9s - loss: 0.2865 - accuracy: 0.9180\n",
      "Epoch 166/200\n",
      "7803/7803 - 9s - loss: 0.2844 - accuracy: 0.9163\n",
      "Epoch 167/200\n",
      "7803/7803 - 9s - loss: 0.2823 - accuracy: 0.9167\n",
      "Epoch 168/200\n",
      "7803/7803 - 9s - loss: 0.2809 - accuracy: 0.9167\n",
      "Epoch 169/200\n",
      "7803/7803 - 9s - loss: 0.2812 - accuracy: 0.9163\n",
      "Epoch 170/200\n",
      "7803/7803 - 9s - loss: 0.2807 - accuracy: 0.9166\n",
      "Epoch 171/200\n",
      "7803/7803 - 9s - loss: 0.2798 - accuracy: 0.9163\n",
      "Epoch 172/200\n",
      "7803/7803 - 9s - loss: 0.2789 - accuracy: 0.9168\n",
      "Epoch 173/200\n",
      "7803/7803 - 9s - loss: 0.2784 - accuracy: 0.9168\n",
      "Epoch 174/200\n",
      "7803/7803 - 9s - loss: 0.2779 - accuracy: 0.9157\n",
      "Epoch 175/200\n",
      "7803/7803 - 9s - loss: 0.2762 - accuracy: 0.9176\n",
      "Epoch 176/200\n",
      "7803/7803 - 9s - loss: 0.2777 - accuracy: 0.9164\n",
      "Epoch 177/200\n",
      "7803/7803 - 9s - loss: 0.2753 - accuracy: 0.9162\n",
      "Epoch 178/200\n",
      "7803/7803 - 9s - loss: 0.2755 - accuracy: 0.9158\n",
      "Epoch 179/200\n",
      "7803/7803 - 9s - loss: 0.2745 - accuracy: 0.9170\n",
      "Epoch 180/200\n",
      "7803/7803 - 9s - loss: 0.2741 - accuracy: 0.9146\n",
      "Epoch 181/200\n",
      "7803/7803 - 9s - loss: 0.2744 - accuracy: 0.9170\n",
      "Epoch 182/200\n",
      "7803/7803 - 9s - loss: 0.2738 - accuracy: 0.9171\n",
      "Epoch 183/200\n",
      "7803/7803 - 9s - loss: 0.2718 - accuracy: 0.9177\n",
      "Epoch 184/200\n",
      "7803/7803 - 9s - loss: 0.2716 - accuracy: 0.9159\n",
      "Epoch 185/200\n",
      "7803/7803 - 8s - loss: 0.2707 - accuracy: 0.9167\n",
      "Epoch 186/200\n",
      "7803/7803 - 9s - loss: 0.2688 - accuracy: 0.9170\n",
      "Epoch 187/200\n",
      "7803/7803 - 9s - loss: 0.2873 - accuracy: 0.9130\n",
      "Epoch 188/200\n",
      "7803/7803 - 9s - loss: 0.3325 - accuracy: 0.9035\n",
      "Epoch 189/200\n",
      "7803/7803 - 9s - loss: 0.2819 - accuracy: 0.9132\n",
      "Epoch 190/200\n",
      "7803/7803 - 9s - loss: 0.2694 - accuracy: 0.9161\n",
      "Epoch 191/200\n",
      "7803/7803 - 9s - loss: 0.2656 - accuracy: 0.9179\n",
      "Epoch 192/200\n",
      "7803/7803 - 9s - loss: 0.2653 - accuracy: 0.9168\n",
      "Epoch 193/200\n",
      "7803/7803 - 9s - loss: 0.2648 - accuracy: 0.9158\n",
      "Epoch 194/200\n",
      "7803/7803 - 9s - loss: 0.2646 - accuracy: 0.9179\n",
      "Epoch 195/200\n",
      "7803/7803 - 9s - loss: 0.2643 - accuracy: 0.9173\n",
      "Epoch 196/200\n",
      "7803/7803 - 9s - loss: 0.2650 - accuracy: 0.9162\n",
      "Epoch 197/200\n",
      "7803/7803 - 9s - loss: 0.2640 - accuracy: 0.9161\n",
      "Epoch 198/200\n",
      "7803/7803 - 9s - loss: 0.2640 - accuracy: 0.9172\n",
      "Epoch 199/200\n",
      "7803/7803 - 9s - loss: 0.2641 - accuracy: 0.9155\n",
      "Epoch 200/200\n",
      "7803/7803 - 9s - loss: 0.2627 - accuracy: 0.9181\n"
     ]
    },
    {
     "data": {
      "text/plain": [
       "<tensorflow.python.keras.callbacks.History at 0x1c82b906f28>"
      ]
     },
     "execution_count": 91,
     "metadata": {},
     "output_type": "execute_result"
    }
   ],
   "source": [
    "model = Sequential()\n",
    "\n",
    "model.add(Embedding(vocab_size, 10, input_length = max_len - 1))  # vocab_size: 단어 개수, input_length: y를 뺸 나머지 데이터\n",
    "model.add(LSTM(128))\n",
    "model.add(Dense(vocab_size, activation = 'softmax'))\n",
    "\n",
    "model.compile(loss = 'categorical_crossentropy', optimizer = 'adam', metrics = ['accuracy'])\n",
    "model.fit(x, y, epochs = 200, verbose = 2)"
   ]
  },
  {
   "cell_type": "code",
   "execution_count": 92,
   "metadata": {},
   "outputs": [],
   "source": [
    "# 문장 생성 함수\n",
    "\n",
    "def sentence_generation(model, t, current_word, n): # 모델, 토크나이저, 현재단어, 반복횟수(예측횟수)\n",
    "    init_word = current_word   # 처음 들어온 단어도 마지막에 같이 출력하기 위해 저장\n",
    "    sentence = ''\n",
    "    for _ in range(n):  # n번 반복\n",
    "        encoded = t.texts_to_sequences([current_word])[0]           # 현재 단어에 대한 정수 인코딩\n",
    "        encoded = pad_sequences([encoded], maxlen=23, padding='pre') # 데이터에 대한 패딩\n",
    "        result = model.predict_classes(encoded, verbose=0)\n",
    "        # 입력한 x(현재 단어)에 대해서 y를 예측하고 y(예측한 단어)를 result에 저장\n",
    "        \n",
    "        for word, index in t.word_index.items(): \n",
    "            if index == result: # 만약 예측한 단어 인덱스와 동일한 단어가 있다면\n",
    "                break           # 해당 단어가 예측 단어이므로 break\n",
    "        current_word = current_word + ' '  + word # 현재 단어 + ' ' + 예측 단어를 현재 단어로 변경\n",
    "        sentence = sentence + ' ' + word         # 예측 단어를 문장에 저장\n",
    "\n",
    "    sentence = init_word + sentence\n",
    "    return sentence"
   ]
  },
  {
   "cell_type": "code",
   "execution_count": 93,
   "metadata": {},
   "outputs": [
    {
     "name": "stdout",
     "output_type": "stream",
     "text": [
      "i want to be rich and im not sorry wish the\n"
     ]
    }
   ],
   "source": [
    "print(sentence_generation(model, t, 'i', 10))"
   ]
  },
  {
   "cell_type": "code",
   "execution_count": 94,
   "metadata": {},
   "outputs": [
    {
     "name": "stdout",
     "output_type": "stream",
     "text": [
      "how to make facebook more accountable rules for automakers takes assad\n"
     ]
    }
   ],
   "source": [
    "print(sentence_generation(model, t, 'how', 10))"
   ]
  },
  {
   "cell_type": "markdown",
   "metadata": {},
   "source": [
    "### 글자 단위 RNN (Char RNN)"
   ]
  },
  {
   "cell_type": "markdown",
   "metadata": {},
   "source": [
    "- 입출력 단위를 단어 레벨(word-level)에서 글자 레벨(character-level)로 변경하여 RNN을 구현할 수 있다.\n",
    "- 입출력 단위를 글자로 변경한 것"
   ]
  },
  {
   "cell_type": "markdown",
   "metadata": {},
   "source": [
    "#### 1) 데이터 전처리"
   ]
  },
  {
   "cell_type": "code",
   "execution_count": 101,
   "metadata": {},
   "outputs": [],
   "source": [
    "import urllib.request\n",
    "\n",
    "urllib.request.urlretrieve('http://www.gutenberg.org/files/11/11-0.txt', filename = '11-0.txt')\n",
    "f = open('11-0.txt', 'rb')\n",
    "\n",
    "lines = []\n",
    "for line in f:          # 데이터를 한 줄씩 읽어\n",
    "    line = line.strip() # \\r, \\n 제거\n",
    "    line = line.lower() # 소문자화\n",
    "    line = line.decode('ascii', 'ignore') # 바이트 열 제거\n",
    "    if len(line) > 0:\n",
    "        lines.append(line)\n",
    "        \n",
    "f.close()"
   ]
  },
  {
   "cell_type": "code",
   "execution_count": 102,
   "metadata": {},
   "outputs": [
    {
     "data": {
      "text/plain": [
       "['the project gutenberg ebook of alices adventures in wonderland, by lewis carroll',\n",
       " 'this ebook is for the use of anyone anywhere at no cost and with',\n",
       " 'almost no restrictions whatsoever.  you may copy it, give it away or',\n",
       " 're-use it under the terms of the project gutenberg license included',\n",
       " 'with this ebook or online at www.gutenberg.org']"
      ]
     },
     "execution_count": 102,
     "metadata": {},
     "output_type": "execute_result"
    }
   ],
   "source": [
    "lines[:5]"
   ]
  },
  {
   "cell_type": "code",
   "execution_count": 103,
   "metadata": {},
   "outputs": [
    {
     "name": "stdout",
     "output_type": "stream",
     "text": [
      "문자열의 길이 또는 총 글자의 개수: 159612\n"
     ]
    }
   ],
   "source": [
    "# 하나의 문자열로 통합하고, 전체 길이 확인\n",
    "\n",
    "text = ' '.join(lines)\n",
    "print('문자열의 길이 또는 총 글자의 개수: %d' % len(text))"
   ]
  },
  {
   "cell_type": "code",
   "execution_count": 104,
   "metadata": {},
   "outputs": [
    {
     "name": "stdout",
     "output_type": "stream",
     "text": [
      "the project gutenberg ebook of alices adventures in wonderland, by lewis carroll this ebook is for the use of anyone anywhere at no cost and with almost no restrictions whatsoever.  you may copy it, g\n"
     ]
    }
   ],
   "source": [
    "print(text[:200])"
   ]
  },
  {
   "cell_type": "code",
   "execution_count": 105,
   "metadata": {},
   "outputs": [
    {
     "name": "stdout",
     "output_type": "stream",
     "text": [
      "글자 집합의 크기: 57\n"
     ]
    }
   ],
   "source": [
    "# 글자 집합 생성\n",
    "\n",
    "char_vocab = sorted(list(set(text)))\n",
    "vocab_size = len(char_vocab)\n",
    "\n",
    "print('글자 집합의 크기: {}'.format(vocab_size))"
   ]
  },
  {
   "cell_type": "markdown",
   "metadata": {},
   "source": [
    "아무리 훈련 코퍼스에 수십만 개 이상 많은 영어 단어가 존재한다고 하더라도, 영어 단어를 표현하기 위해서 글자 집합에 포함되는 글자는 26개의 알파벳뿐이기 때문에 집합의 크기가 현저히 작다."
   ]
  },
  {
   "cell_type": "code",
   "execution_count": 106,
   "metadata": {},
   "outputs": [
    {
     "name": "stdout",
     "output_type": "stream",
     "text": [
      "{' ': 0, '!': 1, '\"': 2, '#': 3, '$': 4, '%': 5, \"'\": 6, '(': 7, ')': 8, '*': 9, ',': 10, '-': 11, '.': 12, '/': 13, '0': 14, '1': 15, '2': 16, '3': 17, '4': 18, '5': 19, '6': 20, '7': 21, '8': 22, '9': 23, ':': 24, ';': 25, '?': 26, '@': 27, '[': 28, ']': 29, '_': 30, 'a': 31, 'b': 32, 'c': 33, 'd': 34, 'e': 35, 'f': 36, 'g': 37, 'h': 38, 'i': 39, 'j': 40, 'k': 41, 'l': 42, 'm': 43, 'n': 44, 'o': 45, 'p': 46, 'q': 47, 'r': 48, 's': 49, 't': 50, 'u': 51, 'v': 52, 'w': 53, 'x': 54, 'y': 55, 'z': 56}\n"
     ]
    }
   ],
   "source": [
    "char_to_index = dict((c, i) for i, c in enumerate(char_vocab))\n",
    "\n",
    "print(char_to_index)"
   ]
  },
  {
   "cell_type": "code",
   "execution_count": 107,
   "metadata": {},
   "outputs": [],
   "source": [
    "index_to_char = {}\n",
    "\n",
    "for key, value in char_to_index.items():\n",
    "    index_to_char[value] = key"
   ]
  },
  {
   "cell_type": "code",
   "execution_count": 108,
   "metadata": {},
   "outputs": [
    {
     "name": "stdout",
     "output_type": "stream",
     "text": [
      "문장 샘플의 수: 2646\n"
     ]
    }
   ],
   "source": [
    "# text 문자열로부터 다수의 문장 샘플들로 분리\n",
    "\n",
    "seq_length = 60 # 문장의 길이\n",
    "n_samples = int(np.floor((len(text)-1) / seq_length)) # 문자열 60등분\n",
    "\n",
    "print('문장 샘플의 수: 2646')"
   ]
  },
  {
   "cell_type": "code",
   "execution_count": 117,
   "metadata": {},
   "outputs": [],
   "source": [
    "# x, y 분리\n",
    "\n",
    "train_x = []\n",
    "train_y = []\n",
    "\n",
    "for i in range(n_samples):\n",
    "    x_sample = text[i * seq_length: (i+1) * seq_length]\n",
    "    x_encoded = [char_to_index[c] for c in x_sample]\n",
    "    train_x.append(x_encoded)\n",
    "    \n",
    "    y_sample = text[i * seq_length + 1: (i + 1) * seq_length + 1] \n",
    "    y_encoded = [char_to_index[c] for c in y_sample]\n",
    "    train_y.append(y_encoded)"
   ]
  },
  {
   "cell_type": "code",
   "execution_count": 118,
   "metadata": {},
   "outputs": [
    {
     "name": "stdout",
     "output_type": "stream",
     "text": [
      "[50, 38, 35, 0, 46, 48, 45, 40, 35, 33, 50, 0, 37, 51, 50, 35, 44, 32, 35, 48, 37, 0, 35, 32, 45, 45, 41, 0, 45, 36, 0, 31, 42, 39, 33, 35, 49, 0, 31, 34, 52, 35, 44, 50, 51, 48, 35, 49, 0, 39, 44, 0, 53, 45, 44, 34, 35, 48, 42, 31]\n"
     ]
    }
   ],
   "source": [
    "print(train_x[0])"
   ]
  },
  {
   "cell_type": "code",
   "execution_count": 119,
   "metadata": {},
   "outputs": [
    {
     "name": "stdout",
     "output_type": "stream",
     "text": [
      "[38, 35, 0, 46, 48, 45, 40, 35, 33, 50, 0, 37, 51, 50, 35, 44, 32, 35, 48, 37, 0, 35, 32, 45, 45, 41, 0, 45, 36, 0, 31, 42, 39, 33, 35, 49, 0, 31, 34, 52, 35, 44, 50, 51, 48, 35, 49, 0, 39, 44, 0, 53, 45, 44, 34, 35, 48, 42, 31, 44]\n"
     ]
    }
   ],
   "source": [
    "print(train_y[0])"
   ]
  },
  {
   "cell_type": "code",
   "execution_count": 120,
   "metadata": {},
   "outputs": [],
   "source": [
    "# 원핫 인코딩\n",
    "\n",
    "train_x = to_categorical(train_x)\n",
    "train_y = to_categorical(train_y)"
   ]
  },
  {
   "cell_type": "code",
   "execution_count": 121,
   "metadata": {},
   "outputs": [
    {
     "name": "stdout",
     "output_type": "stream",
     "text": [
      "train_X의 크기(shape) : (2660, 60, 57)\n",
      "train_y의 크기(shape) : (2660, 60, 57)\n"
     ]
    }
   ],
   "source": [
    "print('train_X의 크기(shape) : {}'.format(train_x.shape)) \n",
    "print('train_y의 크기(shape) : {}'.format(train_y.shape))"
   ]
  },
  {
   "cell_type": "markdown",
   "metadata": {},
   "source": [
    "#### 2) LSTM 모델"
   ]
  },
  {
   "cell_type": "code",
   "execution_count": 122,
   "metadata": {},
   "outputs": [],
   "source": [
    "from tensorflow.keras.layers import TimeDistributed"
   ]
  },
  {
   "cell_type": "code",
   "execution_count": 124,
   "metadata": {},
   "outputs": [
    {
     "name": "stdout",
     "output_type": "stream",
     "text": [
      "Train on 2660 samples\n",
      "Epoch 1/80\n",
      "2660/2660 - 70s - loss: 3.0758 - accuracy: 0.1820\n",
      "Epoch 2/80\n",
      "2660/2660 - 70s - loss: 2.7002 - accuracy: 0.2572\n",
      "Epoch 3/80\n",
      "2660/2660 - 72s - loss: 2.3668 - accuracy: 0.3339\n",
      "Epoch 4/80\n",
      "2660/2660 - 74s - loss: 2.2244 - accuracy: 0.3687\n",
      "Epoch 5/80\n",
      "2660/2660 - 74s - loss: 2.1201 - accuracy: 0.3931\n",
      "Epoch 6/80\n",
      "2660/2660 - 75s - loss: 2.0375 - accuracy: 0.4125\n",
      "Epoch 7/80\n",
      "2660/2660 - 75s - loss: 1.9643 - accuracy: 0.4319\n",
      "Epoch 8/80\n",
      "2660/2660 - 77s - loss: 1.9068 - accuracy: 0.4464\n",
      "Epoch 9/80\n",
      "2660/2660 - 77s - loss: 1.8458 - accuracy: 0.4660\n",
      "Epoch 10/80\n",
      "2660/2660 - 76s - loss: 1.7943 - accuracy: 0.4787\n",
      "Epoch 11/80\n",
      "2660/2660 - 78s - loss: 1.7476 - accuracy: 0.4923\n",
      "Epoch 12/80\n",
      "2660/2660 - 78s - loss: 1.7022 - accuracy: 0.5050\n",
      "Epoch 13/80\n",
      "2660/2660 - 78s - loss: 1.6616 - accuracy: 0.5156\n",
      "Epoch 14/80\n",
      "2660/2660 - 79s - loss: 1.6212 - accuracy: 0.5259\n",
      "Epoch 15/80\n",
      "2660/2660 - 79s - loss: 1.5846 - accuracy: 0.5348\n",
      "Epoch 16/80\n",
      "2660/2660 - 80s - loss: 1.5488 - accuracy: 0.5453\n",
      "Epoch 17/80\n",
      "2660/2660 - 76s - loss: 1.5148 - accuracy: 0.5533\n",
      "Epoch 18/80\n",
      "2660/2660 - 80s - loss: 1.4830 - accuracy: 0.5619\n",
      "Epoch 19/80\n",
      "2660/2660 - 80s - loss: 1.4494 - accuracy: 0.5706\n",
      "Epoch 20/80\n",
      "2660/2660 - 80s - loss: 1.4187 - accuracy: 0.5799\n",
      "Epoch 21/80\n",
      "2660/2660 - 82s - loss: 1.3875 - accuracy: 0.5891\n",
      "Epoch 22/80\n",
      "2660/2660 - 79s - loss: 1.3571 - accuracy: 0.5969\n",
      "Epoch 23/80\n",
      "2660/2660 - 80s - loss: 1.3285 - accuracy: 0.6047\n",
      "Epoch 24/80\n",
      "2660/2660 - 79s - loss: 1.2999 - accuracy: 0.6131\n",
      "Epoch 25/80\n",
      "2660/2660 - 79s - loss: 1.2694 - accuracy: 0.6218\n",
      "Epoch 26/80\n",
      "2660/2660 - 78s - loss: 1.2392 - accuracy: 0.6311\n",
      "Epoch 27/80\n",
      "2660/2660 - 78s - loss: 1.2108 - accuracy: 0.6391\n",
      "Epoch 28/80\n",
      "2660/2660 - 78s - loss: 1.1817 - accuracy: 0.6471\n",
      "Epoch 29/80\n",
      "2660/2660 - 78s - loss: 1.1510 - accuracy: 0.6573\n",
      "Epoch 30/80\n",
      "2660/2660 - 78s - loss: 1.1230 - accuracy: 0.6657\n",
      "Epoch 31/80\n",
      "2660/2660 - 79s - loss: 1.0924 - accuracy: 0.6751\n",
      "Epoch 32/80\n",
      "2660/2660 - 79s - loss: 1.0625 - accuracy: 0.6838\n",
      "Epoch 33/80\n",
      "2660/2660 - 79s - loss: 1.0345 - accuracy: 0.6911\n",
      "Epoch 34/80\n",
      "2660/2660 - 79s - loss: 1.0025 - accuracy: 0.7020\n",
      "Epoch 35/80\n",
      "2660/2660 - 79s - loss: 0.9708 - accuracy: 0.7119\n",
      "Epoch 36/80\n",
      "2660/2660 - 79s - loss: 0.9423 - accuracy: 0.7196\n",
      "Epoch 37/80\n",
      "2660/2660 - 78s - loss: 0.9156 - accuracy: 0.7278\n",
      "Epoch 38/80\n",
      "2660/2660 - 79s - loss: 0.8832 - accuracy: 0.7394\n",
      "Epoch 39/80\n",
      "2660/2660 - 79s - loss: 0.8572 - accuracy: 0.7461\n",
      "Epoch 40/80\n",
      "2660/2660 - 79s - loss: 0.8305 - accuracy: 0.7547\n",
      "Epoch 41/80\n",
      "2660/2660 - 80s - loss: 0.7979 - accuracy: 0.7654\n",
      "Epoch 42/80\n",
      "2660/2660 - 79s - loss: 0.7713 - accuracy: 0.7746\n",
      "Epoch 43/80\n",
      "2660/2660 - 79s - loss: 0.7401 - accuracy: 0.7843\n",
      "Epoch 44/80\n",
      "2660/2660 - 79s - loss: 0.7139 - accuracy: 0.7922\n",
      "Epoch 45/80\n",
      "2660/2660 - 79s - loss: 0.6960 - accuracy: 0.7968\n",
      "Epoch 46/80\n",
      "2660/2660 - 79s - loss: 0.6612 - accuracy: 0.8102\n",
      "Epoch 47/80\n",
      "2660/2660 - 79s - loss: 0.6406 - accuracy: 0.8152\n",
      "Epoch 48/80\n",
      "2660/2660 - 79s - loss: 0.6139 - accuracy: 0.8248\n",
      "Epoch 49/80\n",
      "2660/2660 - 79s - loss: 0.5868 - accuracy: 0.8330\n",
      "Epoch 50/80\n",
      "2660/2660 - 79s - loss: 0.5651 - accuracy: 0.8396\n",
      "Epoch 51/80\n",
      "2660/2660 - 80s - loss: 0.5457 - accuracy: 0.8465\n",
      "Epoch 52/80\n",
      "2660/2660 - 80s - loss: 0.5155 - accuracy: 0.8569\n",
      "Epoch 53/80\n",
      "2660/2660 - 79s - loss: 0.4951 - accuracy: 0.8638\n",
      "Epoch 54/80\n",
      "2660/2660 - 6618s - loss: 0.4769 - accuracy: 0.8688\n",
      "Epoch 55/80\n",
      "2660/2660 - 64s - loss: 0.4614 - accuracy: 0.8738\n",
      "Epoch 56/80\n",
      "2660/2660 - 77s - loss: 0.4389 - accuracy: 0.8813\n",
      "Epoch 57/80\n",
      "2660/2660 - 81s - loss: 0.4195 - accuracy: 0.8877\n",
      "Epoch 58/80\n",
      "2660/2660 - 80s - loss: 0.4040 - accuracy: 0.8928\n",
      "Epoch 59/80\n",
      "2660/2660 - 80s - loss: 0.3841 - accuracy: 0.8990\n",
      "Epoch 60/80\n",
      "2660/2660 - 83s - loss: 0.3674 - accuracy: 0.9039\n",
      "Epoch 61/80\n",
      "2660/2660 - 81s - loss: 0.3557 - accuracy: 0.9073\n",
      "Epoch 62/80\n",
      "2660/2660 - 81s - loss: 0.3354 - accuracy: 0.9153\n",
      "Epoch 63/80\n",
      "2660/2660 - 84s - loss: 0.3266 - accuracy: 0.9159\n",
      "Epoch 64/80\n",
      "2660/2660 - 82s - loss: 0.3128 - accuracy: 0.9210\n",
      "Epoch 65/80\n",
      "2660/2660 - 91s - loss: 0.2961 - accuracy: 0.9264\n",
      "Epoch 66/80\n",
      "2660/2660 - 81s - loss: 0.2835 - accuracy: 0.9300\n",
      "Epoch 67/80\n",
      "2660/2660 - 87s - loss: 0.2765 - accuracy: 0.9318\n",
      "Epoch 68/80\n",
      "2660/2660 - 89s - loss: 0.2626 - accuracy: 0.9358\n",
      "Epoch 69/80\n",
      "2660/2660 - 58s - loss: 0.2486 - accuracy: 0.9406\n",
      "Epoch 70/80\n",
      "2660/2660 - 52s - loss: 0.2364 - accuracy: 0.9442\n",
      "Epoch 71/80\n",
      "2660/2660 - 53s - loss: 0.2237 - accuracy: 0.9473\n",
      "Epoch 72/80\n",
      "2660/2660 - 60s - loss: 0.2173 - accuracy: 0.9490\n",
      "Epoch 73/80\n",
      "2660/2660 - 68s - loss: 0.2195 - accuracy: 0.9475\n",
      "Epoch 74/80\n",
      "2660/2660 - 75s - loss: 0.2068 - accuracy: 0.9509\n",
      "Epoch 75/80\n",
      "2660/2660 - 77s - loss: 0.1991 - accuracy: 0.9529\n",
      "Epoch 76/80\n",
      "2660/2660 - 70s - loss: 0.1922 - accuracy: 0.9545\n",
      "Epoch 77/80\n",
      "2660/2660 - 75s - loss: 0.1839 - accuracy: 0.9565\n",
      "Epoch 78/80\n",
      "2660/2660 - 78s - loss: 0.1816 - accuracy: 0.9565\n",
      "Epoch 79/80\n",
      "2660/2660 - 79s - loss: 0.1783 - accuracy: 0.9573\n",
      "Epoch 80/80\n",
      "2660/2660 - 81s - loss: 0.1761 - accuracy: 0.9571\n"
     ]
    },
    {
     "data": {
      "text/plain": [
       "<tensorflow.python.keras.callbacks.History at 0x1c845d4eba8>"
      ]
     },
     "execution_count": 124,
     "metadata": {},
     "output_type": "execute_result"
    }
   ],
   "source": [
    "model = Sequential()\n",
    "\n",
    "model.add(LSTM(256, input_shape=(None, train_X.shape[2]), return_sequences=True))\n",
    "model.add(LSTM(256, return_sequences=True))\n",
    "model.add(TimeDistributed(Dense(vocab_size, activation='softmax')))\n",
    "\n",
    "model.compile(loss='categorical_crossentropy', optimizer='adam', metrics=['accuracy'])\n",
    "model.fit(train_x, train_y, epochs=80, verbose=2)"
   ]
  },
  {
   "cell_type": "code",
   "execution_count": 125,
   "metadata": {},
   "outputs": [],
   "source": [
    "# 문장 생성 함수\n",
    "\n",
    "def sentence_generation(model, length):\n",
    "    ix = [np.random.randint(vocab_size)] # 글자에 대한 랜덤 인덱스 생성\n",
    "    y_char = [index_to_char[ix[-1]]]     # 랜덤 익덱스로부터 글자 생성\n",
    "    print(ix[-1],'번 글자',y_char[-1],'로 예측을 시작!')\n",
    "    X = np.zeros((1, length, vocab_size)) # (1, length, 55) 크기의 x 생성. 즉, LSTM의 입력 시퀀스 생성\n",
    "\n",
    "    for i in range(length):\n",
    "        X[0][i][ix[-1]] = 1  # x[0][i][예측한 글자의 인덱스] = 1, 즉, 예측 글자를 다음 입력 시퀀스에 추가\n",
    "        print(index_to_char[ix[-1]], end=\"\")\n",
    "        ix = np.argmax(model.predict(X[:, :i+1, :])[0], 1)\n",
    "        y_char.append(index_to_char[ix[-1]])\n",
    "    return ('').join(y_char)"
   ]
  },
  {
   "cell_type": "code",
   "execution_count": 129,
   "metadata": {},
   "outputs": [
    {
     "name": "stdout",
     "output_type": "stream",
     "text": [
      "33 번 글자 c 로 예측을 시작!\n",
      "can find them. as she said this, she cameWARNING:tensorflow:5 out of the last 82 calls to <function _make_execution_function.<locals>.distributed_function at 0x000001C848AAA048> triggered tf.function retracing. Tracing is expensive and the excessive number of tracings is likely due to passing python objects instead of tensors. Also, tf.function has experimental_relax_shapes=True option that relaxes argument shapes that can avoid unnecessary retracing. Please refer to https://www.tensorflow.org/beta/tutorials/eager/tf_function#python_or_tensor_args and https://www.tensorflow.org/api_docs/python/tf/function for more details.\n",
      " WARNING:tensorflow:6 out of the last 83 calls to <function _make_execution_function.<locals>.distributed_function at 0x000001C848AAA048> triggered tf.function retracing. Tracing is expensive and the excessive number of tracings is likely due to passing python objects instead of tensors. Also, tf.function has experimental_relax_shapes=True option that relaxes argument shapes that can avoid unnecessary retracing. Please refer to https://www.tensorflow.org/beta/tutorials/eager/tf_function#python_or_tensor_args and https://www.tensorflow.org/api_docs/python/tf/function for more details.\n",
      "uWARNING:tensorflow:7 out of the last 84 calls to <function _make_execution_function.<locals>.distributed_function at 0x000001C848AAA048> triggered tf.function retracing. Tracing is expensive and the excessive number of tracings is likely due to passing python objects instead of tensors. Also, tf.function has experimental_relax_shapes=True option that relaxes argument shapes that can avoid unnecessary retracing. Please refer to https://www.tensorflow.org/beta/tutorials/eager/tf_function#python_or_tensor_args and https://www.tensorflow.org/api_docs/python/tf/function for more details.\n",
      "pWARNING:tensorflow:8 out of the last 85 calls to <function _make_execution_function.<locals>.distributed_function at 0x000001C848AAA048> triggered tf.function retracing. Tracing is expensive and the excessive number of tracings is likely due to passing python objects instead of tensors. Also, tf.function has experimental_relax_shapes=True option that relaxes argument shapes that can avoid unnecessary retracing. Please refer to https://www.tensorflow.org/beta/tutorials/eager/tf_function#python_or_tensor_args and https://www.tensorflow.org/api_docs/python/tf/function for more details.\n",
      "oWARNING:tensorflow:9 out of the last 86 calls to <function _make_execution_function.<locals>.distributed_function at 0x000001C848AAA048> triggered tf.function retracing. Tracing is expensive and the excessive number of tracings is likely due to passing python objects instead of tensors. Also, tf.function has experimental_relax_shapes=True option that relaxes argument shapes that can avoid unnecessary retracing. Please refer to https://www.tensorflow.org/beta/tutorials/eager/tf_function#python_or_tensor_args and https://www.tensorflow.org/api_docs/python/tf/function for more details.\n",
      "nWARNING:tensorflow:10 out of the last 87 calls to <function _make_execution_function.<locals>.distributed_function at 0x000001C848AAA048> triggered tf.function retracing. Tracing is expensive and the excessive number of tracings is likely due to passing python objects instead of tensors. Also, tf.function has experimental_relax_shapes=True option that relaxes argument shapes that can avoid unnecessary retracing. Please refer to https://www.tensorflow.org/beta/tutorials/eager/tf_function#python_or_tensor_args and https://www.tensorflow.org/api_docs/python/tf/function for more details.\n",
      " WARNING:tensorflow:11 out of the last 88 calls to <function _make_execution_function.<locals>.distributed_function at 0x000001C848AAA048> triggered tf.function retracing. Tracing is expensive and the excessive number of tracings is likely due to passing python objects instead of tensors. Also, tf.function has experimental_relax_shapes=True option that relaxes argument shapes that can avoid unnecessary retracing. Please refer to https://www.tensorflow.org/beta/tutorials/eager/tf_function#python_or_tensor_args and https://www.tensorflow.org/api_docs/python/tf/function for more details.\n",
      "aWARNING:tensorflow:11 out of the last 11 calls to <function _make_execution_function.<locals>.distributed_function at 0x000001C848AAA048> triggered tf.function retracing. Tracing is expensive and the excessive number of tracings is likely due to passing python objects instead of tensors. Also, tf.function has experimental_relax_shapes=True option that relaxes argument shapes that can avoid unnecessary retracing. Please refer to https://www.tensorflow.org/beta/tutorials/eager/tf_function#python_or_tensor_args and https://www.tensorflow.org/api_docs/python/tf/function for more details.\n",
      " WARNING:tensorflow:11 out of the last 11 calls to <function _make_execution_function.<locals>.distributed_function at 0x000001C848AAA048> triggered tf.function retracing. Tracing is expensive and the excessive number of tracings is likely due to passing python objects instead of tensors. Also, tf.function has experimental_relax_shapes=True option that relaxes argument shapes that can avoid unnecessary retracing. Please refer to https://www.tensorflow.org/beta/tutorials/eager/tf_function#python_or_tensor_args and https://www.tensorflow.org/api_docs/python/tf/function for more details.\n",
      "nWARNING:tensorflow:11 out of the last 11 calls to <function _make_execution_function.<locals>.distributed_function at 0x000001C848AAA048> triggered tf.function retracing. Tracing is expensive and the excessive number of tracings is likely due to passing python objects instead of tensors. Also, tf.function has experimental_relax_shapes=True option that relaxes argument shapes that can avoid unnecessary retracing. Please refer to https://www.tensorflow.org/beta/tutorials/eager/tf_function#python_or_tensor_args and https://www.tensorflow.org/api_docs/python/tf/function for more details.\n"
     ]
    },
    {
     "data": {
      "text/plain": [
       "'can find them. as she said this, she came upon a ne'"
      ]
     },
     "execution_count": 129,
     "metadata": {},
     "output_type": "execute_result"
    }
   ],
   "source": [
    "sentence_generation(model, 50)"
   ]
  }
 ],
 "metadata": {
  "kernelspec": {
   "display_name": "Python 3",
   "language": "python",
   "name": "python3"
  },
  "language_info": {
   "codemirror_mode": {
    "name": "ipython",
    "version": 3
   },
   "file_extension": ".py",
   "mimetype": "text/x-python",
   "name": "python",
   "nbconvert_exporter": "python",
   "pygments_lexer": "ipython3",
   "version": "3.7.3"
  }
 },
 "nbformat": 4,
 "nbformat_minor": 2
}
